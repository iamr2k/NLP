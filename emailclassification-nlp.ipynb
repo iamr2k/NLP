{
 "cells": [
  {
   "cell_type": "markdown",
   "metadata": {
    "colab_type": "text",
    "id": "DdzpszMkvApa"
   },
   "source": [
    "# Importing Libraries 📥"
   ]
  },
  {
   "cell_type": "code",
   "execution_count": 1,
   "metadata": {},
   "outputs": [
    {
     "name": "stdout",
     "output_type": "stream",
     "text": [
      "Collecting scikit-learn==0.22.1\r\n",
      "\u001b[?25l  Downloading https://files.pythonhosted.org/packages/d1/48/e9fa9e252abcd1447eff6f9257636af31758a6e46fd5ce5d3c879f6907cb/scikit_learn-0.22.1-cp36-cp36m-manylinux1_x86_64.whl (7.0MB)\r\n",
      "\u001b[K     |████████████████████████████████| 7.1MB 2.8MB/s \r\n",
      "\u001b[?25hRequirement already satisfied: scipy>=0.17.0 in /opt/conda/lib/python3.6/site-packages (from scikit-learn==0.22.1) (1.4.1)\r\n",
      "Requirement already satisfied: numpy>=1.11.0 in /opt/conda/lib/python3.6/site-packages (from scikit-learn==0.22.1) (1.18.1)\r\n",
      "Requirement already satisfied: joblib>=0.11 in /opt/conda/lib/python3.6/site-packages (from scikit-learn==0.22.1) (0.14.1)\r\n",
      "\u001b[31mERROR: allennlp 0.9.0 requires flaky, which is not installed.\u001b[0m\r\n",
      "\u001b[31mERROR: allennlp 0.9.0 requires responses>=0.7, which is not installed.\u001b[0m\r\n",
      "\u001b[31mERROR: kmeans-smote 0.1.2 has requirement imbalanced-learn<0.5,>=0.4.0, but you'll have imbalanced-learn 0.6.1 which is incompatible.\u001b[0m\r\n",
      "\u001b[31mERROR: kmeans-smote 0.1.2 has requirement numpy<1.16,>=1.13, but you'll have numpy 1.18.1 which is incompatible.\u001b[0m\r\n",
      "\u001b[31mERROR: kmeans-smote 0.1.2 has requirement scikit-learn<0.21,>=0.19.0, but you'll have scikit-learn 0.22.1 which is incompatible.\u001b[0m\r\n",
      "\u001b[31mERROR: hypertools 0.6.2 has requirement scikit-learn<0.22,>=0.19.1, but you'll have scikit-learn 0.22.1 which is incompatible.\u001b[0m\r\n",
      "\u001b[31mERROR: allennlp 0.9.0 has requirement spacy<2.2,>=2.1.0, but you'll have spacy 2.2.3 which is incompatible.\u001b[0m\r\n",
      "Installing collected packages: scikit-learn\r\n",
      "  Found existing installation: scikit-learn 0.21.3\r\n",
      "    Uninstalling scikit-learn-0.21.3:\r\n",
      "      Successfully uninstalled scikit-learn-0.21.3\r\n",
      "Successfully installed scikit-learn-0.22.1\r\n",
      "Note: you may need to restart the kernel to use updated packages.\n"
     ]
    }
   ],
   "source": [
    "pip install scikit-learn==0.22.1"
   ]
  },
  {
   "cell_type": "code",
   "execution_count": 2,
   "metadata": {},
   "outputs": [
    {
     "name": "stdout",
     "output_type": "stream",
     "text": [
      "[nltk_data] Downloading package punkt to /usr/share/nltk_data...\n",
      "[nltk_data]   Package punkt is already up-to-date!\n",
      "[nltk_data] Downloading package stopwords to /usr/share/nltk_data...\n",
      "[nltk_data]   Package stopwords is already up-to-date!\n",
      "[nltk_data] Downloading package wordnet to /usr/share/nltk_data...\n",
      "[nltk_data]   Package wordnet is already up-to-date!\n"
     ]
    },
    {
     "name": "stderr",
     "output_type": "stream",
     "text": [
      "Using TensorFlow backend.\n"
     ]
    },
    {
     "name": "stdout",
     "output_type": "stream",
     "text": [
      "/kaggle/input/badwords/full-list-of-bad-words_csv-file_2018_07_30.csv\n",
      "/kaggle/input/goodwords3/goodwords.xlsx\n",
      "/kaggle/input/email-classificationnlp/train\n",
      "/kaggle/input/email-classificationnlp/test1\n"
     ]
    }
   ],
   "source": [
    "import numpy as np # linear algebra\n",
    "import pandas as pd # data processing, CSV file I/O (e.g. pd.read_csv)\n",
    "from matplotlib_venn import venn2, venn3, venn2_circles, venn3_circles #to create intersection graphs\n",
    "import matplotlib.pyplot as plt #to plot show the charts\n",
    "import seaborn as sns\n",
    "from scipy import stats\n",
    "import string\n",
    "import re\n",
    "import nltk\n",
    "import sklearn\n",
    "nltk.download('punkt')\n",
    "from nltk.tokenize import word_tokenize\n",
    "nltk.download('stopwords')\n",
    "from nltk.corpus import stopwords\n",
    "nltk.download('wordnet')\n",
    "stop_words=set(stopwords.words(\"english\"))\n",
    "from nltk.stem.wordnet import WordNetLemmatizer\n",
    "from wordcloud import WordCloud, STOPWORDS\n",
    "stopwords = set(STOPWORDS)\n",
    "\n",
    "from itertools import chain\n",
    "\n",
    "from sklearn.metrics import accuracy_score, precision_score, recall_score ,confusion_matrix ,f1_score\n",
    "from sklearn.model_selection import cross_val_score\n",
    "from sklearn.model_selection import train_test_split\n",
    "from sklearn.naive_bayes import MultinomialNB\n",
    "\n",
    "\n",
    "from nltk import word_tokenize\n",
    "from nltk.probability import FreqDist\n",
    "\n",
    "\n",
    "from scipy.sparse import hstack\n",
    "\n",
    "from sklearn.feature_extraction.text import TfidfVectorizer\n",
    "from sklearn.feature_extraction.text import CountVectorizer\n",
    "\n",
    "import xgboost as xgb\n",
    "\n",
    "from sklearn.linear_model import LinearRegression\n",
    "from sklearn.linear_model import LogisticRegression\n",
    "\n",
    "\n",
    "import pickle\n",
    "\n",
    "from sklearn.utils import resample\n",
    "from sklearn.model_selection import StratifiedKFold\n",
    "\n",
    "\n",
    "from keras.preprocessing.text import Tokenizer\n",
    "from keras.preprocessing.sequence import pad_sequences\n",
    "from keras.models import Sequential\n",
    "from keras.layers import Dense, Embedding, LSTM\n",
    "from keras.utils.np_utils import to_categorical\n",
    "from keras.callbacks import ModelCheckpoint\n",
    "from keras.models import load_model\n",
    "from keras.optimizers import Adam\n",
    "\n",
    "from sklearn.ensemble import RandomForestClassifier\n",
    "\n",
    "import os \n",
    "for dirname, _, filenames in os.walk('/kaggle/input'):\n",
    "    for filename in filenames:\n",
    "        print(os.path.join(dirname, filename))"
   ]
  },
  {
   "cell_type": "markdown",
   "metadata": {},
   "source": [
    "### Importing Data"
   ]
  },
  {
   "cell_type": "code",
   "execution_count": 3,
   "metadata": {
    "colab": {},
    "colab_type": "code",
    "id": "n7YegHz1FftH"
   },
   "outputs": [],
   "source": [
    "data = pd.read_csv('../input/email-classificationnlp/train')"
   ]
  },
  {
   "cell_type": "code",
   "execution_count": 4,
   "metadata": {},
   "outputs": [
    {
     "data": {
      "text/html": [
       "<div>\n",
       "<style scoped>\n",
       "    .dataframe tbody tr th:only-of-type {\n",
       "        vertical-align: middle;\n",
       "    }\n",
       "\n",
       "    .dataframe tbody tr th {\n",
       "        vertical-align: top;\n",
       "    }\n",
       "\n",
       "    .dataframe thead th {\n",
       "        text-align: right;\n",
       "    }\n",
       "</style>\n",
       "<table border=\"1\" class=\"dataframe\">\n",
       "  <thead>\n",
       "    <tr style=\"text-align: right;\">\n",
       "      <th></th>\n",
       "      <th>Unnamed: 0</th>\n",
       "      <th>filename</th>\n",
       "      <th>Message-ID</th>\n",
       "      <th>content</th>\n",
       "      <th>Class</th>\n",
       "    </tr>\n",
       "  </thead>\n",
       "  <tbody>\n",
       "    <tr>\n",
       "      <th>33648</th>\n",
       "      <td>21243</td>\n",
       "      <td>baughman-d/all_documents/344.</td>\n",
       "      <td>&lt;10831684.1075848319565.JavaMail.evans@thyme&gt;</td>\n",
       "      <td>Attached is FERC authorization for EPMI and EE...</td>\n",
       "      <td>Non Abusive</td>\n",
       "    </tr>\n",
       "    <tr>\n",
       "      <th>33649</th>\n",
       "      <td>45891</td>\n",
       "      <td>campbell-l/discussion_threads/34.</td>\n",
       "      <td>&lt;28840366.1075851895047.JavaMail.evans@thyme&gt;</td>\n",
       "      <td>Larry,\\nIn the latest conversation with Harold...</td>\n",
       "      <td>Non Abusive</td>\n",
       "    </tr>\n",
       "    <tr>\n",
       "      <th>33650</th>\n",
       "      <td>42613</td>\n",
       "      <td>buy-r/sent_items/164.</td>\n",
       "      <td>&lt;26862630.1075863358930.JavaMail.evans@thyme&gt;</td>\n",
       "      <td>This is fine by me. Rick Buy</td>\n",
       "      <td>Non Abusive</td>\n",
       "    </tr>\n",
       "    <tr>\n",
       "      <th>33651</th>\n",
       "      <td>43567</td>\n",
       "      <td>campbell-l/all_documents/1231.</td>\n",
       "      <td>&lt;3478277.1075857856811.JavaMail.evans@thyme&gt;</td>\n",
       "      <td>You guys are a class act, and we're glad you  ...</td>\n",
       "      <td>Non Abusive</td>\n",
       "    </tr>\n",
       "    <tr>\n",
       "      <th>33652</th>\n",
       "      <td>2732</td>\n",
       "      <td>rogers-b/discussion_threads/1413.</td>\n",
       "      <td>&lt;18671042.1075857212103.JavaMail.evans@thyme&gt;</td>\n",
       "      <td>______________________________________________...</td>\n",
       "      <td>Abusive</td>\n",
       "    </tr>\n",
       "  </tbody>\n",
       "</table>\n",
       "</div>"
      ],
      "text/plain": [
       "       Unnamed: 0                           filename  \\\n",
       "33648       21243      baughman-d/all_documents/344.   \n",
       "33649       45891  campbell-l/discussion_threads/34.   \n",
       "33650       42613              buy-r/sent_items/164.   \n",
       "33651       43567     campbell-l/all_documents/1231.   \n",
       "33652        2732  rogers-b/discussion_threads/1413.   \n",
       "\n",
       "                                          Message-ID  \\\n",
       "33648  <10831684.1075848319565.JavaMail.evans@thyme>   \n",
       "33649  <28840366.1075851895047.JavaMail.evans@thyme>   \n",
       "33650  <26862630.1075863358930.JavaMail.evans@thyme>   \n",
       "33651   <3478277.1075857856811.JavaMail.evans@thyme>   \n",
       "33652  <18671042.1075857212103.JavaMail.evans@thyme>   \n",
       "\n",
       "                                                 content        Class  \n",
       "33648  Attached is FERC authorization for EPMI and EE...  Non Abusive  \n",
       "33649  Larry,\\nIn the latest conversation with Harold...  Non Abusive  \n",
       "33650                       This is fine by me. Rick Buy  Non Abusive  \n",
       "33651  You guys are a class act, and we're glad you  ...  Non Abusive  \n",
       "33652  ______________________________________________...      Abusive  "
      ]
     },
     "execution_count": 4,
     "metadata": {},
     "output_type": "execute_result"
    }
   ],
   "source": [
    "data.tail(5)"
   ]
  },
  {
   "cell_type": "code",
   "execution_count": 5,
   "metadata": {},
   "outputs": [
    {
     "name": "stdout",
     "output_type": "stream",
     "text": [
      "So how do you say \"bitch\" in Spanish?\n"
     ]
    }
   ],
   "source": [
    "print(data.content[33627])"
   ]
  },
  {
   "cell_type": "code",
   "execution_count": 6,
   "metadata": {},
   "outputs": [],
   "source": [
    "submission = pd.read_csv('../input/email-classificationnlp/test1')"
   ]
  },
  {
   "cell_type": "markdown",
   "metadata": {},
   "source": [
    "![](http://)![](http://)### importing list of good and bad words"
   ]
  },
  {
   "cell_type": "code",
   "execution_count": 7,
   "metadata": {},
   "outputs": [],
   "source": [
    "bad = pd.read_csv(\"/kaggle/input/badwords/full-list-of-bad-words_csv-file_2018_07_30.csv\")\n",
    "good = pd.read_excel(\"/kaggle/input/goodwords3/goodwords.xlsx\")"
   ]
  },
  {
   "cell_type": "code",
   "execution_count": 8,
   "metadata": {},
   "outputs": [],
   "source": [
    "bad[\"content\"] = bad.iloc[:,0]\n",
    "good[\"content\"] = good.iloc[:,0]"
   ]
  },
  {
   "cell_type": "code",
   "execution_count": 9,
   "metadata": {},
   "outputs": [],
   "source": [
    "bad[\"Class\"] = \"Abusive\"\n",
    "good[\"Class\"] = \"Non Abusive\""
   ]
  },
  {
   "cell_type": "code",
   "execution_count": 10,
   "metadata": {},
   "outputs": [
    {
     "data": {
      "text/html": [
       "<div>\n",
       "<style scoped>\n",
       "    .dataframe tbody tr th:only-of-type {\n",
       "        vertical-align: middle;\n",
       "    }\n",
       "\n",
       "    .dataframe tbody tr th {\n",
       "        vertical-align: top;\n",
       "    }\n",
       "\n",
       "    .dataframe thead th {\n",
       "        text-align: right;\n",
       "    }\n",
       "</style>\n",
       "<table border=\"1\" class=\"dataframe\">\n",
       "  <thead>\n",
       "    <tr style=\"text-align: right;\">\n",
       "      <th></th>\n",
       "      <th>content</th>\n",
       "      <th>Class</th>\n",
       "    </tr>\n",
       "  </thead>\n",
       "  <tbody>\n",
       "    <tr>\n",
       "      <th>0</th>\n",
       "      <td>acrotomophilia;;;;;;</td>\n",
       "      <td>Abusive</td>\n",
       "    </tr>\n",
       "    <tr>\n",
       "      <th>1</th>\n",
       "      <td>aeolus;;;;;;</td>\n",
       "      <td>Abusive</td>\n",
       "    </tr>\n",
       "    <tr>\n",
       "      <th>2</th>\n",
       "      <td>ahole;;;;;;</td>\n",
       "      <td>Abusive</td>\n",
       "    </tr>\n",
       "    <tr>\n",
       "      <th>3</th>\n",
       "      <td>alabama hot pocket;;;;;;</td>\n",
       "      <td>Abusive</td>\n",
       "    </tr>\n",
       "    <tr>\n",
       "      <th>4</th>\n",
       "      <td>alaskan pipeline;;;;;;</td>\n",
       "      <td>Abusive</td>\n",
       "    </tr>\n",
       "  </tbody>\n",
       "</table>\n",
       "</div>"
      ],
      "text/plain": [
       "                    content    Class\n",
       "0      acrotomophilia;;;;;;  Abusive\n",
       "1              aeolus;;;;;;  Abusive\n",
       "2               ahole;;;;;;  Abusive\n",
       "3  alabama hot pocket;;;;;;  Abusive\n",
       "4    alaskan pipeline;;;;;;  Abusive"
      ]
     },
     "execution_count": 10,
     "metadata": {},
     "output_type": "execute_result"
    }
   ],
   "source": [
    "bad = bad.iloc[:,1:3]\n",
    "good = good.iloc[:,1:3]\n",
    "bad.head()"
   ]
  },
  {
   "cell_type": "code",
   "execution_count": 11,
   "metadata": {},
   "outputs": [],
   "source": [
    "data2 = data.iloc[:,3:5]"
   ]
  },
  {
   "cell_type": "code",
   "execution_count": 12,
   "metadata": {},
   "outputs": [
    {
     "data": {
      "text/html": [
       "<div>\n",
       "<style scoped>\n",
       "    .dataframe tbody tr th:only-of-type {\n",
       "        vertical-align: middle;\n",
       "    }\n",
       "\n",
       "    .dataframe tbody tr th {\n",
       "        vertical-align: top;\n",
       "    }\n",
       "\n",
       "    .dataframe thead th {\n",
       "        text-align: right;\n",
       "    }\n",
       "</style>\n",
       "<table border=\"1\" class=\"dataframe\">\n",
       "  <thead>\n",
       "    <tr style=\"text-align: right;\">\n",
       "      <th></th>\n",
       "      <th>content</th>\n",
       "      <th>Class</th>\n",
       "    </tr>\n",
       "  </thead>\n",
       "  <tbody>\n",
       "    <tr>\n",
       "      <th>0</th>\n",
       "      <td>Anymore details?  Is the offer above or below ...</td>\n",
       "      <td>Non Abusive</td>\n",
       "    </tr>\n",
       "    <tr>\n",
       "      <th>1</th>\n",
       "      <td>All of the MidAmerican corrections for October...</td>\n",
       "      <td>Non Abusive</td>\n",
       "    </tr>\n",
       "    <tr>\n",
       "      <th>2</th>\n",
       "      <td>Mr. Campbell,\\n\\nArgent has overnighted Title ...</td>\n",
       "      <td>Non Abusive</td>\n",
       "    </tr>\n",
       "    <tr>\n",
       "      <th>3</th>\n",
       "      <td>Damn it all to hell!\\n\\nWhat are you doing wit...</td>\n",
       "      <td>Non Abusive</td>\n",
       "    </tr>\n",
       "    <tr>\n",
       "      <th>4</th>\n",
       "      <td>Confirmation of date &amp; time for UT Summer Anal...</td>\n",
       "      <td>Non Abusive</td>\n",
       "    </tr>\n",
       "  </tbody>\n",
       "</table>\n",
       "</div>"
      ],
      "text/plain": [
       "                                             content        Class\n",
       "0  Anymore details?  Is the offer above or below ...  Non Abusive\n",
       "1  All of the MidAmerican corrections for October...  Non Abusive\n",
       "2  Mr. Campbell,\\n\\nArgent has overnighted Title ...  Non Abusive\n",
       "3  Damn it all to hell!\\n\\nWhat are you doing wit...  Non Abusive\n",
       "4  Confirmation of date & time for UT Summer Anal...  Non Abusive"
      ]
     },
     "execution_count": 12,
     "metadata": {},
     "output_type": "execute_result"
    }
   ],
   "source": [
    "data2.head()"
   ]
  },
  {
   "cell_type": "code",
   "execution_count": 13,
   "metadata": {},
   "outputs": [],
   "source": [
    "data = data2.append(bad ,ignore_index=True, verify_integrity=False, sort=None)\n",
    "data = data.append(good ,ignore_index=True, verify_integrity=False, sort=None)"
   ]
  },
  {
   "cell_type": "code",
   "execution_count": 14,
   "metadata": {},
   "outputs": [
    {
     "data": {
      "text/html": [
       "<div>\n",
       "<style scoped>\n",
       "    .dataframe tbody tr th:only-of-type {\n",
       "        vertical-align: middle;\n",
       "    }\n",
       "\n",
       "    .dataframe tbody tr th {\n",
       "        vertical-align: top;\n",
       "    }\n",
       "\n",
       "    .dataframe thead th {\n",
       "        text-align: right;\n",
       "    }\n",
       "</style>\n",
       "<table border=\"1\" class=\"dataframe\">\n",
       "  <thead>\n",
       "    <tr style=\"text-align: right;\">\n",
       "      <th></th>\n",
       "      <th>content</th>\n",
       "      <th>Class</th>\n",
       "    </tr>\n",
       "  </thead>\n",
       "  <tbody>\n",
       "    <tr>\n",
       "      <th>0</th>\n",
       "      <td>Anymore details?  Is the offer above or below ...</td>\n",
       "      <td>Non Abusive</td>\n",
       "    </tr>\n",
       "    <tr>\n",
       "      <th>1</th>\n",
       "      <td>All of the MidAmerican corrections for October...</td>\n",
       "      <td>Non Abusive</td>\n",
       "    </tr>\n",
       "    <tr>\n",
       "      <th>2</th>\n",
       "      <td>Mr. Campbell,\\n\\nArgent has overnighted Title ...</td>\n",
       "      <td>Non Abusive</td>\n",
       "    </tr>\n",
       "    <tr>\n",
       "      <th>3</th>\n",
       "      <td>Damn it all to hell!\\n\\nWhat are you doing wit...</td>\n",
       "      <td>Non Abusive</td>\n",
       "    </tr>\n",
       "    <tr>\n",
       "      <th>4</th>\n",
       "      <td>Confirmation of date &amp; time for UT Summer Anal...</td>\n",
       "      <td>Non Abusive</td>\n",
       "    </tr>\n",
       "    <tr>\n",
       "      <th>...</th>\n",
       "      <td>...</td>\n",
       "      <td>...</td>\n",
       "    </tr>\n",
       "    <tr>\n",
       "      <th>37345</th>\n",
       "      <td>youthful</td>\n",
       "      <td>Non Abusive</td>\n",
       "    </tr>\n",
       "    <tr>\n",
       "      <th>37346</th>\n",
       "      <td>zeal</td>\n",
       "      <td>Non Abusive</td>\n",
       "    </tr>\n",
       "    <tr>\n",
       "      <th>37347</th>\n",
       "      <td>zenith</td>\n",
       "      <td>Non Abusive</td>\n",
       "    </tr>\n",
       "    <tr>\n",
       "      <th>37348</th>\n",
       "      <td>zest</td>\n",
       "      <td>Non Abusive</td>\n",
       "    </tr>\n",
       "    <tr>\n",
       "      <th>37349</th>\n",
       "      <td>zippy</td>\n",
       "      <td>Non Abusive</td>\n",
       "    </tr>\n",
       "  </tbody>\n",
       "</table>\n",
       "<p>37350 rows × 2 columns</p>\n",
       "</div>"
      ],
      "text/plain": [
       "                                                 content        Class\n",
       "0      Anymore details?  Is the offer above or below ...  Non Abusive\n",
       "1      All of the MidAmerican corrections for October...  Non Abusive\n",
       "2      Mr. Campbell,\\n\\nArgent has overnighted Title ...  Non Abusive\n",
       "3      Damn it all to hell!\\n\\nWhat are you doing wit...  Non Abusive\n",
       "4      Confirmation of date & time for UT Summer Anal...  Non Abusive\n",
       "...                                                  ...          ...\n",
       "37345                                           youthful  Non Abusive\n",
       "37346                                               zeal  Non Abusive\n",
       "37347                                             zenith  Non Abusive\n",
       "37348                                               zest  Non Abusive\n",
       "37349                                              zippy  Non Abusive\n",
       "\n",
       "[37350 rows x 2 columns]"
      ]
     },
     "execution_count": 14,
     "metadata": {},
     "output_type": "execute_result"
    }
   ],
   "source": [
    "data"
   ]
  },
  {
   "cell_type": "markdown",
   "metadata": {},
   "source": [
    "# EDA"
   ]
  },
  {
   "cell_type": "code",
   "execution_count": 15,
   "metadata": {
    "colab": {
     "base_uri": "https://localhost:8080/",
     "height": 195
    },
    "colab_type": "code",
    "id": "6J5Z3pH85yHf",
    "outputId": "f01806c8-b519-458a-c636-5d139e9aae26"
   },
   "outputs": [
    {
     "name": "stdout",
     "output_type": "stream",
     "text": [
      "<class 'pandas.core.frame.DataFrame'>\n",
      "RangeIndex: 37350 entries, 0 to 37349\n",
      "Data columns (total 2 columns):\n",
      "content    37350 non-null object\n",
      "Class      37350 non-null object\n",
      "dtypes: object(2)\n",
      "memory usage: 583.7+ KB\n"
     ]
    }
   ],
   "source": [
    "data.info()"
   ]
  },
  {
   "cell_type": "code",
   "execution_count": 16,
   "metadata": {},
   "outputs": [
    {
     "data": {
      "text/plain": [
       "content    object\n",
       "Class      object\n",
       "dtype: object"
      ]
     },
     "execution_count": 16,
     "metadata": {},
     "output_type": "execute_result"
    }
   ],
   "source": [
    "data.dtypes"
   ]
  },
  {
   "cell_type": "code",
   "execution_count": 17,
   "metadata": {},
   "outputs": [
    {
     "name": "stdout",
     "output_type": "stream",
     "text": [
      "<class 'pandas.core.frame.DataFrame'>\n",
      "RangeIndex: 14423 entries, 0 to 14422\n",
      "Data columns (total 4 columns):\n",
      "Unnamed: 0    14423 non-null int64\n",
      "filename      14423 non-null object\n",
      "Message-ID    14423 non-null object\n",
      "content       14423 non-null object\n",
      "dtypes: int64(1), object(3)\n",
      "memory usage: 450.8+ KB\n"
     ]
    }
   ],
   "source": [
    "submission.info()"
   ]
  },
  {
   "cell_type": "code",
   "execution_count": 18,
   "metadata": {
    "colab": {
     "base_uri": "https://localhost:8080/",
     "height": 780
    },
    "colab_type": "code",
    "id": "hnztqkXIf-kT",
    "outputId": "09a42409-6265-4938-9bc7-8412ee6a8c40"
   },
   "outputs": [
    {
     "data": {
      "text/html": [
       "<div>\n",
       "<style scoped>\n",
       "    .dataframe tbody tr th:only-of-type {\n",
       "        vertical-align: middle;\n",
       "    }\n",
       "\n",
       "    .dataframe tbody tr th {\n",
       "        vertical-align: top;\n",
       "    }\n",
       "\n",
       "    .dataframe thead th {\n",
       "        text-align: right;\n",
       "    }\n",
       "</style>\n",
       "<table border=\"1\" class=\"dataframe\">\n",
       "  <thead>\n",
       "    <tr style=\"text-align: right;\">\n",
       "      <th></th>\n",
       "      <th>content</th>\n",
       "      <th>Class</th>\n",
       "    </tr>\n",
       "  </thead>\n",
       "  <tbody>\n",
       "    <tr>\n",
       "      <th>0</th>\n",
       "      <td>Anymore details?  Is the offer above or below ...</td>\n",
       "      <td>Non Abusive</td>\n",
       "    </tr>\n",
       "    <tr>\n",
       "      <th>1</th>\n",
       "      <td>All of the MidAmerican corrections for October...</td>\n",
       "      <td>Non Abusive</td>\n",
       "    </tr>\n",
       "    <tr>\n",
       "      <th>2</th>\n",
       "      <td>Mr. Campbell,\\n\\nArgent has overnighted Title ...</td>\n",
       "      <td>Non Abusive</td>\n",
       "    </tr>\n",
       "    <tr>\n",
       "      <th>3</th>\n",
       "      <td>Damn it all to hell!\\n\\nWhat are you doing wit...</td>\n",
       "      <td>Non Abusive</td>\n",
       "    </tr>\n",
       "    <tr>\n",
       "      <th>4</th>\n",
       "      <td>Confirmation of date &amp; time for UT Summer Anal...</td>\n",
       "      <td>Non Abusive</td>\n",
       "    </tr>\n",
       "    <tr>\n",
       "      <th>5</th>\n",
       "      <td>actually a terrible game.  bonds didnt get a b...</td>\n",
       "      <td>Non Abusive</td>\n",
       "    </tr>\n",
       "    <tr>\n",
       "      <th>6</th>\n",
       "      <td>the bucket - that is a great name\\n\\n\\n\\n\\nBRI...</td>\n",
       "      <td>Non Abusive</td>\n",
       "    </tr>\n",
       "    <tr>\n",
       "      <th>7</th>\n",
       "      <td>Following please find the Daily excelrOnline E...</td>\n",
       "      <td>Non Abusive</td>\n",
       "    </tr>\n",
       "    <tr>\n",
       "      <th>8</th>\n",
       "      <td>I will be at the Hyatt tomorrow for the all-em...</td>\n",
       "      <td>Non Abusive</td>\n",
       "    </tr>\n",
       "    <tr>\n",
       "      <th>9</th>\n",
       "      <td>Your passwords are extended, or if you did not...</td>\n",
       "      <td>Non Abusive</td>\n",
       "    </tr>\n",
       "    <tr>\n",
       "      <th>10</th>\n",
       "      <td>Attached is a updated memo about transition is...</td>\n",
       "      <td>Non Abusive</td>\n",
       "    </tr>\n",
       "    <tr>\n",
       "      <th>11</th>\n",
       "      <td>I'm gonna have to kill Rock.\\n\\nHe managed to ...</td>\n",
       "      <td>Abusive</td>\n",
       "    </tr>\n",
       "    <tr>\n",
       "      <th>12</th>\n",
       "      <td>I have received your e-mail.  Thank you for yo...</td>\n",
       "      <td>Non Abusive</td>\n",
       "    </tr>\n",
       "    <tr>\n",
       "      <th>13</th>\n",
       "      <td>\\n\\n -----Original Message-----\\nFrom: \\tCalge...</td>\n",
       "      <td>Non Abusive</td>\n",
       "    </tr>\n",
       "    <tr>\n",
       "      <th>14</th>\n",
       "      <td>John, Lou, Cutty, Bill, I want to bring this i...</td>\n",
       "      <td>Non Abusive</td>\n",
       "    </tr>\n",
       "    <tr>\n",
       "      <th>15</th>\n",
       "      <td>No memo out yet on the Doorstep process.  I am...</td>\n",
       "      <td>Non Abusive</td>\n",
       "    </tr>\n",
       "    <tr>\n",
       "      <th>16</th>\n",
       "      <td>may = 495  the rest is the same\\n\\n\\nFrom: Jen...</td>\n",
       "      <td>Non Abusive</td>\n",
       "    </tr>\n",
       "    <tr>\n",
       "      <th>17</th>\n",
       "      <td>\\n\\nI left off three Operational Analysis peo...</td>\n",
       "      <td>Non Abusive</td>\n",
       "    </tr>\n",
       "    <tr>\n",
       "      <th>18</th>\n",
       "      <td>\\nmarket_relations@nyiso.com writes to the NYI...</td>\n",
       "      <td>Non Abusive</td>\n",
       "    </tr>\n",
       "    <tr>\n",
       "      <th>19</th>\n",
       "      <td>\\nThere has been a new reservation confirmed t...</td>\n",
       "      <td>Non Abusive</td>\n",
       "    </tr>\n",
       "    <tr>\n",
       "      <th>20</th>\n",
       "      <td>yes it is 25 mw and we are taking care of it.\\...</td>\n",
       "      <td>Non Abusive</td>\n",
       "    </tr>\n",
       "    <tr>\n",
       "      <th>21</th>\n",
       "      <td>CALENDAR ENTRY:\\tAPPOINTMENT\\n\\nDescription:\\n...</td>\n",
       "      <td>Non Abusive</td>\n",
       "    </tr>\n",
       "    <tr>\n",
       "      <th>22</th>\n",
       "      <td>I have attended three ASE's and would be happy...</td>\n",
       "      <td>Non Abusive</td>\n",
       "    </tr>\n",
       "    <tr>\n",
       "      <th>23</th>\n",
       "      <td>Although I would prefer to see the counterpart...</td>\n",
       "      <td>Non Abusive</td>\n",
       "    </tr>\n",
       "    <tr>\n",
       "      <th>24</th>\n",
       "      <td>Sally,\\n\\nIt has taken a few weeks for me to w...</td>\n",
       "      <td>Non Abusive</td>\n",
       "    </tr>\n",
       "  </tbody>\n",
       "</table>\n",
       "</div>"
      ],
      "text/plain": [
       "                                              content        Class\n",
       "0   Anymore details?  Is the offer above or below ...  Non Abusive\n",
       "1   All of the MidAmerican corrections for October...  Non Abusive\n",
       "2   Mr. Campbell,\\n\\nArgent has overnighted Title ...  Non Abusive\n",
       "3   Damn it all to hell!\\n\\nWhat are you doing wit...  Non Abusive\n",
       "4   Confirmation of date & time for UT Summer Anal...  Non Abusive\n",
       "5   actually a terrible game.  bonds didnt get a b...  Non Abusive\n",
       "6   the bucket - that is a great name\\n\\n\\n\\n\\nBRI...  Non Abusive\n",
       "7   Following please find the Daily excelrOnline E...  Non Abusive\n",
       "8   I will be at the Hyatt tomorrow for the all-em...  Non Abusive\n",
       "9   Your passwords are extended, or if you did not...  Non Abusive\n",
       "10  Attached is a updated memo about transition is...  Non Abusive\n",
       "11  I'm gonna have to kill Rock.\\n\\nHe managed to ...      Abusive\n",
       "12  I have received your e-mail.  Thank you for yo...  Non Abusive\n",
       "13  \\n\\n -----Original Message-----\\nFrom: \\tCalge...  Non Abusive\n",
       "14  John, Lou, Cutty, Bill, I want to bring this i...  Non Abusive\n",
       "15  No memo out yet on the Doorstep process.  I am...  Non Abusive\n",
       "16  may = 495  the rest is the same\\n\\n\\nFrom: Jen...  Non Abusive\n",
       "17   \\n\\nI left off three Operational Analysis peo...  Non Abusive\n",
       "18  \\nmarket_relations@nyiso.com writes to the NYI...  Non Abusive\n",
       "19  \\nThere has been a new reservation confirmed t...  Non Abusive\n",
       "20  yes it is 25 mw and we are taking care of it.\\...  Non Abusive\n",
       "21  CALENDAR ENTRY:\\tAPPOINTMENT\\n\\nDescription:\\n...  Non Abusive\n",
       "22  I have attended three ASE's and would be happy...  Non Abusive\n",
       "23  Although I would prefer to see the counterpart...  Non Abusive\n",
       "24  Sally,\\n\\nIt has taken a few weeks for me to w...  Non Abusive"
      ]
     },
     "execution_count": 18,
     "metadata": {},
     "output_type": "execute_result"
    }
   ],
   "source": [
    "data.head(25)"
   ]
  },
  {
   "cell_type": "code",
   "execution_count": 19,
   "metadata": {},
   "outputs": [
    {
     "data": {
      "text/plain": [
       "<matplotlib.axes._subplots.AxesSubplot at 0x7efc43a27908>"
      ]
     },
     "execution_count": 19,
     "metadata": {},
     "output_type": "execute_result"
    },
    {
     "data": {
      "image/png": "[encoded data removed]",
      "text/plain": [
       "<Figure size 432x288 with 1 Axes>"
      ]
     },
     "metadata": {
      "needs_background": "light"
     },
     "output_type": "display_data"
    }
   ],
   "source": [
    "data['Class'].value_counts().plot(kind=\"bar\", rot=0)"
   ]
  },
  {
   "cell_type": "code",
   "execution_count": 20,
   "metadata": {},
   "outputs": [
    {
     "data": {
      "text/plain": [
       "Non Abusive    33291\n",
       "Abusive         4059\n",
       "Name: Class, dtype: int64"
      ]
     },
     "execution_count": 20,
     "metadata": {},
     "output_type": "execute_result"
    }
   ],
   "source": [
    "data['Class'].value_counts()"
   ]
  },
  {
   "cell_type": "markdown",
   "metadata": {},
   "source": [
    "# Cleaning Dataset"
   ]
  },
  {
   "cell_type": "markdown",
   "metadata": {
    "colab_type": "text",
    "id": "7RONflJqbcWa"
   },
   "source": [
    "### Removing links, punctuations , numbers ,one and two letter words, etc"
   ]
  },
  {
   "cell_type": "code",
   "execution_count": 21,
   "metadata": {},
   "outputs": [],
   "source": [
    "data[\"cleaned\"] = data.content.apply(lambda x: re.sub(r'http\\S+', '', x))\n",
    "data.cleaned = data.cleaned.apply(lambda x : re.sub(\"[^A-Za-z\" \"]+\",\" \",x).lower())\n",
    "data.cleaned = data.cleaned.apply(lambda x : re.sub(\"[0-9\" \"]+\",\" \",x))\n",
    "data.cleaned = data.cleaned.apply(lambda x : re.sub(r'(?:^| )\\w(?:$| )', ' ', x).strip())\n",
    "\n",
    "data.cleaned = data.cleaned.str.replace('re',' ')\n",
    "data.cleaned = data.cleaned.str.replace('original message',' ')\n",
    "data.cleaned = data.cleaned.str.replace('from',' ')\n",
    "data.cleaned = data.cleaned.str.replace('excelr',' ')\n",
    "data.cleaned = data.cleaned.str.replace('subject',' ')"
   ]
  },
  {
   "cell_type": "code",
   "execution_count": 22,
   "metadata": {},
   "outputs": [
    {
     "data": {
      "text/html": [
       "<div>\n",
       "<style scoped>\n",
       "    .dataframe tbody tr th:only-of-type {\n",
       "        vertical-align: middle;\n",
       "    }\n",
       "\n",
       "    .dataframe tbody tr th {\n",
       "        vertical-align: top;\n",
       "    }\n",
       "\n",
       "    .dataframe thead th {\n",
       "        text-align: right;\n",
       "    }\n",
       "</style>\n",
       "<table border=\"1\" class=\"dataframe\">\n",
       "  <thead>\n",
       "    <tr style=\"text-align: right;\">\n",
       "      <th></th>\n",
       "      <th>content</th>\n",
       "      <th>Class</th>\n",
       "      <th>cleaned</th>\n",
       "    </tr>\n",
       "  </thead>\n",
       "  <tbody>\n",
       "    <tr>\n",
       "      <th>37345</th>\n",
       "      <td>youthful</td>\n",
       "      <td>Non Abusive</td>\n",
       "      <td>youthful</td>\n",
       "    </tr>\n",
       "    <tr>\n",
       "      <th>37346</th>\n",
       "      <td>zeal</td>\n",
       "      <td>Non Abusive</td>\n",
       "      <td>zeal</td>\n",
       "    </tr>\n",
       "    <tr>\n",
       "      <th>37347</th>\n",
       "      <td>zenith</td>\n",
       "      <td>Non Abusive</td>\n",
       "      <td>zenith</td>\n",
       "    </tr>\n",
       "    <tr>\n",
       "      <th>37348</th>\n",
       "      <td>zest</td>\n",
       "      <td>Non Abusive</td>\n",
       "      <td>zest</td>\n",
       "    </tr>\n",
       "    <tr>\n",
       "      <th>37349</th>\n",
       "      <td>zippy</td>\n",
       "      <td>Non Abusive</td>\n",
       "      <td>zippy</td>\n",
       "    </tr>\n",
       "  </tbody>\n",
       "</table>\n",
       "</div>"
      ],
      "text/plain": [
       "        content        Class   cleaned\n",
       "37345  youthful  Non Abusive  youthful\n",
       "37346      zeal  Non Abusive      zeal\n",
       "37347    zenith  Non Abusive    zenith\n",
       "37348      zest  Non Abusive      zest\n",
       "37349     zippy  Non Abusive     zippy"
      ]
     },
     "execution_count": 22,
     "metadata": {},
     "output_type": "execute_result"
    }
   ],
   "source": [
    "data.tail()"
   ]
  },
  {
   "cell_type": "markdown",
   "metadata": {},
   "source": [
    "> ### Cleaning the submission data"
   ]
  },
  {
   "cell_type": "code",
   "execution_count": 23,
   "metadata": {},
   "outputs": [],
   "source": [
    "submission[\"cleaned\"] = submission.content.apply(lambda x: re.sub(r'http\\S+', '', x))\n",
    "submission.cleaned = submission.cleaned.apply(lambda x : re.sub(\"[^A-Za-z\" \"]+\",\" \",x).lower())\n",
    "submission.cleaned = submission.cleaned.apply(lambda x : re.sub(\"[0-9\" \"]+\",\" \",x))\n",
    "submission.cleaned = submission.cleaned.apply(lambda x : re.sub(r'(?:^| )\\w(?:$| )', ' ', x).strip())\n",
    "\n",
    "submission.cleaned = submission.cleaned.str.replace('re',' ')\n",
    "submission.cleaned = submission.cleaned.str.replace('original message',' ')\n",
    "submission.cleaned = submission.cleaned.str.replace('from',' ')\n",
    "submission.cleaned = submission.cleaned.str.replace('excelr',' ')\n",
    "submission.cleaned = submission.cleaned.str.replace('subject',' ')"
   ]
  },
  {
   "cell_type": "markdown",
   "metadata": {},
   "source": [
    "### Cleaning the submission data"
   ]
  },
  {
   "cell_type": "code",
   "execution_count": null,
   "metadata": {},
   "outputs": [],
   "source": []
  },
  {
   "cell_type": "code",
   "execution_count": 24,
   "metadata": {},
   "outputs": [
    {
     "data": {
      "text/plain": [
       "'Did you mean to have an attachment to this e:mail ?  There was not one \\nattached.  '"
      ]
     },
     "execution_count": 24,
     "metadata": {},
     "output_type": "execute_result"
    }
   ],
   "source": [
    "data.content[114]"
   ]
  },
  {
   "cell_type": "code",
   "execution_count": 25,
   "metadata": {},
   "outputs": [
    {
     "data": {
      "text/plain": [
       "'did you mean to have an attachment to this mail the  was not one attached'"
      ]
     },
     "execution_count": 25,
     "metadata": {},
     "output_type": "execute_result"
    }
   ],
   "source": [
    "data.cleaned[114]"
   ]
  },
  {
   "cell_type": "code",
   "execution_count": 26,
   "metadata": {},
   "outputs": [
    {
     "data": {
      "text/plain": [
       "'NOTE:  YOU WILL RECEIVE THIS MESSAGE EACH TIME YOU ARE SELECTED AS A REVIEWER.\\n\\n\\nYou have been selected to participate in the Mid-Year 2000 Performance \\nManagement process by providing meaningful feedback on specific employee(s) \\nthat have been identified for you.  Your feedback plays an important role in \\nthe performance management process, and your participation is very critical \\nto the success of excelr\\'s Performance Management goals.\\n\\nPlease provide feedback on the employee(s) listed below by accessing the \\nPerformance Management System (PEP) and completing an online feedback form as \\ndescribed in the \"Performance Management Quick Reference Guide\".  You may \\nbegin your feedback input immediately.  Please have all feedback forms \\ncompleted by the date noted below.\\n\\nIf you have any questions regarding PEP or your responsibility in the \\nprocess, please call the PEP Help Desk at the following numbers:\\n\\nIn the U.S.:  1-713-853-4777, Option 4\\nIn Europe:  44-207-783-4040, Option 4\\nIn Canada:  1-403-974-6724 (Canada employees only)\\n\\nOr e-mail your questions to:  perfmgmt@excelr.com\\n\\nThank you for your participation in this important process.\\n\\nThe following list of employees is a CUMULATIVE list of all feedback \\nrequests, by operating company, that have an \"OPEN\" feedback status.  An \\nemployee\\'s name will no longer appear once you have completed the feedback \\nform and select the \"SUBMIT\" button in PEP.\\n\\n\\n\\nReview Group: excelr\\nFeedback Due Date: Jun 16, 2000\\n\\nEmployee Name                   Supervisor Name                 Date Selected\\n-------------                   ---------------                 -------------\\nBECK, SALLY                     DAVID W DELAINEY                May 25, 2000\\nCHUN, INJA Y.                   BETH S PERLMAN                  May 19, 2000\\nCOUSINO, LISA B.                STEPHEN P SCHWARZ               May 30, 2000\\nEARNEST, SCOTT                  AVTANSINI NATH                  May 26, 2000\\nHOPE, GEORGE J                  SHELLY L JONES                  May 23, 2000\\nLAUER, RICHARD P                DONNA LOWRY                     May 22, 2000\\nMELODICK, KIMBERLY A            CINDY L SKINNER                 May 15, 2000\\nMURPHY, THEODORE R              RICHARD B BUY                   Jun 06, 2000\\nPLEUS, SCOTT F                  TOD A LINDHOLM                  May 31, 2000\\nROBERTS, CELESTE C              CHARLENE R JACKSON              May 22, 2000\\nSOLMONSON, MARY C               SALLY BECK                      May 18, 2000\\nSWEENEY, KEVIN G                AVTANSINI NATH                  May 30, 2000\\nVILLARREAL, NORMA E             CINDY L SKINNER                 May 15, 2000'"
      ]
     },
     "execution_count": 26,
     "metadata": {},
     "output_type": "execute_result"
    }
   ],
   "source": [
    "submission.content[114]"
   ]
  },
  {
   "cell_type": "code",
   "execution_count": 27,
   "metadata": {},
   "outputs": [
    {
     "data": {
      "text/plain": [
       "'note you will  ceive this message each time you a  selected as  viewer you have been selected to participate in the mid year performance management process by providing meaningful feedback on specific employee that have been identified for you your feedback plays an important role in the performance management process and your participation is very critical to the success of   performance management goals please provide feedback on the employee listed below by accessing the performance management system pep and completing an online feedback form as described in the performance management quick  fe nce guide you may begin your feedback input immediately please have all feedback forms completed by the date noted below if you have any questions  garding pep or your  sponsibility in the process please call the pep help desk at the following numbers in the s option in europe option in canada canada employees only or mail your questions to perfmgmt   com thank you for your participation in this important process the following list of employees is cumulative list of all feedback  quests by operating company that have an open feedback status an employee name will no longer appear once you have completed the feedback form and select the submit button in pep  view group   feedback due date jun employee name supervisor name date selected beck sally david delainey may chun inja beth perlman may cousino lisa stephen schwarz may earnest scott avtansini nath may hope george shelly jones may lauer richard donna lowry may melodick kimberly cindy skinner may murphy theodo  richard buy jun pleus scott tod lindholm may roberts celeste charlene jackson may solmonson mary sally beck may sweeney kevin avtansini nath may villar al norma cindy skinner may'"
      ]
     },
     "execution_count": 27,
     "metadata": {},
     "output_type": "execute_result"
    }
   ],
   "source": [
    "submission.cleaned[114]"
   ]
  },
  {
   "cell_type": "markdown",
   "metadata": {
    "colab_type": "text",
    "id": "PbJ4ZRA9-sVO"
   },
   "source": [
    "# Word Tokenization"
   ]
  },
  {
   "cell_type": "code",
   "execution_count": 28,
   "metadata": {
    "colab": {},
    "colab_type": "code",
    "id": "2FLAF8vV-aJe"
   },
   "outputs": [],
   "source": [
    "def token(text):\n",
    "    tokenized_word=word_tokenize(text)\n",
    "    return tokenized_word\n"
   ]
  },
  {
   "cell_type": "code",
   "execution_count": 29,
   "metadata": {
    "colab": {
     "base_uri": "https://localhost:8080/",
     "height": 55
    },
    "colab_type": "code",
    "id": "Vli-J4rkDNlh",
    "outputId": "d1366cf4-471f-4003-c395-1ea986bcbe94"
   },
   "outputs": [
    {
     "name": "stdout",
     "output_type": "stream",
     "text": [
      "['damn', 'it', 'all', 'to', 'hell', 'what', 'a', 'you', 'doing', 'with', 'my', 'inheritance', 'we', 'enjoyed', 'the', 'dinner', 'as', 'well', 'we', 'a', 'available', 'whenever', 'you', 'would', 'like', 'to', 'join', 'us', 'we', 'should', 'do', 'it', 'at', 'least', 'bi', 'weekly', 'work', 'is', 'good', 'have', 'had', 'p', 'tty', 'good', 'month', 'thus', 'far', 'knock', 'on', 'wood', 'how', 'a', 'things', 'going', 'with', 'you', 'your', 'loving', 'son', 'k', 'bass', 'daphneco', 'bigplanet', 'com', 'on', 'am', 'please', 'spond', 'to', 'bass', 'daphneco', 'bigplanet', 'com', 'to', 'eric', 'bass', 'com', 'cc', 'friday', 'hi', 'eric', 'we', 'su', 'enjoyed', 'being', 'with', 'you', 'and', 'your', 'lovely', 'shanna', 'friday', 'evening', 'we', 'should', 'do', 'that', 'mo', 'often', 'how', 'is', 'your', 'day', 'going', 'work', 'al', 'hard', 'because', 'we', 've', 'lost', 'all', 'of', 'your', 'inheritance', 'lu', 'eric', 'bass', 'com', 'to', 'lwbthemarine', 'bigplanet', 'com', 'daphneco', 'bigplanet', 'com', 'sent', 'thursday', 'november', 'am', 'friday', 'what', 'a', 'you', 'doing', 'for', 'dinner', 'tomorrow', 'would', 'you', 'like', 'to', 'meet', 'up', 'with', 'shanna', 'and', 'somewhe', 'let', 'me', 'know']\n"
     ]
    }
   ],
   "source": [
    "tokenized_word = token(data.cleaned[3])\n",
    "print(tokenized_word)"
   ]
  },
  {
   "cell_type": "markdown",
   "metadata": {
    "colab_type": "text",
    "id": "wjjcHq_OJ-gn"
   },
   "source": [
    "Applying Tokenization in whole data"
   ]
  },
  {
   "cell_type": "code",
   "execution_count": 30,
   "metadata": {
    "colab": {},
    "colab_type": "code",
    "id": "QR_p3Mu1J9kV"
   },
   "outputs": [],
   "source": [
    "data[\"tokenized\"] = data.cleaned.apply(token)"
   ]
  },
  {
   "cell_type": "code",
   "execution_count": 31,
   "metadata": {
    "colab": {
     "base_uri": "https://localhost:8080/",
     "height": 55
    },
    "colab_type": "code",
    "id": "micYhi4vDR35",
    "outputId": "07a28fc1-b0d0-449c-904a-00c5793770cb"
   },
   "outputs": [
    {
     "name": "stdout",
     "output_type": "stream",
     "text": [
      "damn it all to hell what a  you doing with my inheritance we enjoyed the dinner as well we a  available whenever you would like to join us we should do it at least bi weekly work is good have had p tty good month thus far knock on wood how a  things going with you your loving son k bass daphneco bigplanet com on am please  spond to bass daphneco bigplanet com to eric bass   com cc     friday hi eric we su  enjoyed being with you and your lovely shanna friday evening we should do that mo  often how is your day going work  al hard because we ve lost all of your inheritance lu     eric bass   com to lwbthemarine bigplanet com daphneco bigplanet com sent thursday november am   friday what a  you doing for dinner tomorrow would you like to meet up with shanna and somewhe  let me know\n"
     ]
    }
   ],
   "source": [
    "print(data.cleaned[3])"
   ]
  },
  {
   "cell_type": "markdown",
   "metadata": {
    "colab_type": "text",
    "id": "nOp2q1cbDRhG"
   },
   "source": [
    "## Removing Stopwords"
   ]
  },
  {
   "cell_type": "code",
   "execution_count": 32,
   "metadata": {
    "colab": {
     "base_uri": "https://localhost:8080/",
     "height": 35
    },
    "colab_type": "code",
    "id": "YvWHIfJT-aEM",
    "outputId": "366e7922-6d23-4b9b-a0cf-410d58544349"
   },
   "outputs": [
    {
     "name": "stdout",
     "output_type": "stream",
     "text": [
      "Filterd Sentence: ['damn', 'hell', 'inheritance', 'enjoyed', 'dinner', 'well', 'available', 'whenever', 'would', 'like', 'join', 'us', 'least', 'bi', 'weekly', 'work', 'good', 'p', 'tty', 'good', 'month', 'thus', 'far', 'knock', 'wood', 'things', 'going', 'loving', 'son', 'k', 'bass', 'daphneco', 'bigplanet', 'com', 'please', 'spond', 'bass', 'daphneco', 'bigplanet', 'com', 'eric', 'bass', 'com', 'cc', 'friday', 'hi', 'eric', 'su', 'enjoyed', 'lovely', 'shanna', 'friday', 'evening', 'mo', 'often', 'day', 'going', 'work', 'al', 'hard', 'lost', 'inheritance', 'lu', 'eric', 'bass', 'com', 'lwbthemarine', 'bigplanet', 'com', 'daphneco', 'bigplanet', 'com', 'sent', 'thursday', 'november', 'friday', 'dinner', 'tomorrow', 'would', 'like', 'meet', 'shanna', 'somewhe', 'let', 'know']\n"
     ]
    }
   ],
   "source": [
    "def stop(tokenized_word):\n",
    "    filtered_sent=[]\n",
    "    for w in tokenized_word:\n",
    "        if w not in stop_words:\n",
    "            filtered_sent.append(w)\n",
    "    return filtered_sent\n",
    "    \n",
    "filtered_sent = stop(data.tokenized[3])\n",
    "print(\"Filterd Sentence:\",filtered_sent)"
   ]
  },
  {
   "cell_type": "markdown",
   "metadata": {
    "colab_type": "text",
    "id": "iZR_W9R2OXpF"
   },
   "source": [
    "## Applying this in whole data"
   ]
  },
  {
   "cell_type": "code",
   "execution_count": 33,
   "metadata": {
    "colab": {},
    "colab_type": "code",
    "id": "YfsamXRPOWfC"
   },
   "outputs": [],
   "source": [
    "data.tokenized = data.tokenized.apply(stop)"
   ]
  },
  {
   "cell_type": "markdown",
   "metadata": {
    "colab_type": "text",
    "id": "EMjwLrutNHqJ"
   },
   "source": [
    "## Lemmatization"
   ]
  },
  {
   "cell_type": "code",
   "execution_count": 34,
   "metadata": {
    "colab": {
     "base_uri": "https://localhost:8080/",
     "height": 35
    },
    "colab_type": "code",
    "id": "hwu4SquL-aCW",
    "outputId": "7594800e-4b4a-4df9-d52e-61a29ee28078"
   },
   "outputs": [
    {
     "name": "stdout",
     "output_type": "stream",
     "text": [
      "Lemmatized Sentence: ['damn', 'hell', 'inheritance', 'enjoy', 'dinner', 'well', 'available', 'whenever', 'would', 'like', 'join', 'us', 'least', 'bi', 'weekly', 'work', 'good', 'p', 'tty', 'good', 'month', 'thus', 'far', 'knock', 'wood', 'things', 'go', 'love', 'son', 'k', 'bass', 'daphneco', 'bigplanet', 'com', 'please', 'spond', 'bass', 'daphneco', 'bigplanet', 'com', 'eric', 'bass', 'com', 'cc', 'friday', 'hi', 'eric', 'su', 'enjoy', 'lovely', 'shanna', 'friday', 'even', 'mo', 'often', 'day', 'go', 'work', 'al', 'hard', 'lose', 'inheritance', 'lu', 'eric', 'bass', 'com', 'lwbthemarine', 'bigplanet', 'com', 'daphneco', 'bigplanet', 'com', 'send', 'thursday', 'november', 'friday', 'dinner', 'tomorrow', 'would', 'like', 'meet', 'shanna', 'somewhe', 'let', 'know']\n"
     ]
    }
   ],
   "source": [
    "def lem(filtered_sent):\n",
    "    lem_words = []\n",
    "    lem = WordNetLemmatizer()\n",
    "    \n",
    "    for w in filtered_sent:\n",
    "        lem_words.append(lem.lemmatize(w,\"v\"))\n",
    "    return lem_words\n",
    "    \n",
    "lem_words = lem(data.tokenized[3])\n",
    "print(\"Lemmatized Sentence:\",lem_words)"
   ]
  },
  {
   "cell_type": "code",
   "execution_count": 35,
   "metadata": {
    "colab": {},
    "colab_type": "code",
    "id": "djPDodP7-aBf"
   },
   "outputs": [],
   "source": [
    "data.tokenized = data.tokenized.apply(lem)"
   ]
  },
  {
   "cell_type": "markdown",
   "metadata": {
    "colab_type": "text",
    "id": "n1Mh-EALfSZs"
   },
   "source": [
    "**### Combining all rows into single tokenized list"
   ]
  },
  {
   "cell_type": "code",
   "execution_count": 36,
   "metadata": {
    "colab": {},
    "colab_type": "code",
    "id": "F1B7FkT5ymt1"
   },
   "outputs": [],
   "source": [
    "combined = []\n",
    "data.tokenized.apply(lambda x : combined.append(x))\n",
    "\n",
    "combined = list(chain.from_iterable(combined))"
   ]
  },
  {
   "cell_type": "code",
   "execution_count": 37,
   "metadata": {
    "colab": {
     "base_uri": "https://localhost:8080/",
     "height": 52
    },
    "colab_type": "code",
    "id": "Yik5xz566fxp",
    "outputId": "4331bfb3-dc41-4413-e465-093b89d3d152"
   },
   "outputs": [
    {
     "name": "stdout",
     "output_type": "stream",
     "text": [
      "[nltk_data] Downloading package words to /usr/share/nltk_data...\n",
      "[nltk_data]   Package words is already up-to-date!\n"
     ]
    }
   ],
   "source": [
    "nltk.download('words')\n",
    "words = set(nltk.corpus.words.words())"
   ]
  },
  {
   "cell_type": "code",
   "execution_count": 38,
   "metadata": {
    "colab": {},
    "colab_type": "code",
    "id": "rh_Jp-Bn5PDA"
   },
   "outputs": [],
   "source": [
    "filtered = []\n",
    "for w in combined:\n",
    "    if w in words:\n",
    "        filtered.append(w)\n"
   ]
  },
  {
   "cell_type": "code",
   "execution_count": 39,
   "metadata": {
    "colab": {
     "base_uri": "https://localhost:8080/",
     "height": 1000
    },
    "colab_type": "code",
    "id": "N6OYiJe_-aIs",
    "outputId": "9fcef64a-3c56-45fc-fe01-215ed3c69c08"
   },
   "outputs": [
    {
     "data": {
      "text/plain": [
       "[('font', 22891),\n",
       " ('p', 22848),\n",
       " ('please', 22367),\n",
       " ('time', 19675),\n",
       " ('get', 18537),\n",
       " ('would', 17307),\n",
       " ('send', 17263),\n",
       " ('f', 16495),\n",
       " ('thank', 15374),\n",
       " ('new', 15248),\n",
       " ('go', 15165),\n",
       " ('corp', 15059),\n",
       " ('e', 14473),\n",
       " ('know', 14317),\n",
       " ('meet', 13837),\n",
       " ('one', 13658),\n",
       " ('mo', 13514),\n",
       " ('g', 13049),\n",
       " ('need', 13045),\n",
       " ('make', 12924),\n",
       " ('mail', 12700),\n",
       " ('week', 12659),\n",
       " ('port', 12654),\n",
       " ('say', 12428),\n",
       " ('may', 12350),\n",
       " ('trade', 12350),\n",
       " ('work', 12195),\n",
       " ('forward', 12136),\n",
       " ('market', 12127),\n",
       " ('call', 11233),\n",
       " ('company', 10750),\n",
       " ('th', 10638),\n",
       " ('see', 10623),\n",
       " ('right', 10437),\n",
       " ('image', 10350),\n",
       " ('like', 10330),\n",
       " ('sally', 10273),\n",
       " ('us', 10169),\n",
       " ('price', 9866),\n",
       " ('view', 9826),\n",
       " ('gas', 9764),\n",
       " ('information', 9714),\n",
       " ('team', 9651),\n",
       " ('size', 9610),\n",
       " ('date', 9540),\n",
       " ('c', 9437),\n",
       " ('schedule', 9369),\n",
       " ('take', 9368),\n",
       " ('day', 9303),\n",
       " ('let', 9221),\n",
       " ('think', 9126),\n",
       " ('game', 9007),\n",
       " ('use', 8863),\n",
       " ('also', 8847),\n",
       " ('business', 8739),\n",
       " ('service', 8672),\n",
       " ('bass', 8609),\n",
       " ('update', 8599),\n",
       " ('align', 8585),\n",
       " ('st', 8568),\n",
       " ('last', 8547),\n",
       " ('year', 8473),\n",
       " ('want', 8393),\n",
       " ('eric', 8332),\n",
       " ('power', 8298),\n",
       " ('list', 8257),\n",
       " ('b', 8199),\n",
       " ('deal', 8181),\n",
       " ('na', 8144),\n",
       " ('look', 8138),\n",
       " ('follow', 8128),\n",
       " ('back', 7946),\n",
       " ('energy', 7931),\n",
       " ('change', 7908),\n",
       " ('question', 7542),\n",
       " ('start', 7421),\n",
       " ('group', 7418),\n",
       " ('risk', 7320),\n",
       " ('give', 7185),\n",
       " ('include', 6935),\n",
       " ('class', 6921),\n",
       " ('add', 6911),\n",
       " ('could', 6787),\n",
       " ('contact', 6773),\n",
       " ('type', 6747),\n",
       " ('two', 6618),\n",
       " ('plan', 6600),\n",
       " ('number', 6482),\n",
       " ('di', 6454),\n",
       " ('issue', 6440),\n",
       " ('net', 6332),\n",
       " ('well', 6321),\n",
       " ('next', 6303),\n",
       " ('come', 6224),\n",
       " ('help', 6155),\n",
       " ('today', 6112),\n",
       " ('process', 6098),\n",
       " ('good', 6093),\n",
       " ('data', 6026),\n",
       " ('buy', 6018)]"
      ]
     },
     "execution_count": 39,
     "metadata": {},
     "output_type": "execute_result"
    }
   ],
   "source": [
    "\n",
    "fdist = FreqDist(filtered)\n",
    "fdist.most_common(100)"
   ]
  },
  {
   "cell_type": "markdown",
   "metadata": {
    "colab_type": "text",
    "id": "X0PGMEBMCW4T"
   },
   "source": [
    "## Frequency Distribution Plot"
   ]
  },
  {
   "cell_type": "code",
   "execution_count": 40,
   "metadata": {
    "colab": {
     "base_uri": "https://localhost:8080/",
     "height": 530
    },
    "colab_type": "code",
    "id": "O1R-cG8_-aGp",
    "outputId": "5958138e-c5d6-40ec-fd3d-cb1ea82cf5e0"
   },
   "outputs": [
    {
     "data": {
      "image/png": "[encoded data removed]",
      "text/plain": [
       "<Figure size 1440x576 with 1 Axes>"
      ]
     },
     "metadata": {
      "needs_background": "light"
     },
     "output_type": "display_data"
    }
   ],
   "source": [
    "plt.figure(figsize=[20,8])\n",
    "fdist.plot(100,cumulative=False)\n",
    "plt.show()"
   ]
  },
  {
   "cell_type": "code",
   "execution_count": 41,
   "metadata": {},
   "outputs": [
    {
     "data": {
      "image/png": "[encoded data removed]",
      "text/plain": [
       "<Figure size 1080x1080 with 1 Axes>"
      ]
     },
     "metadata": {
      "needs_background": "light"
     },
     "output_type": "display_data"
    }
   ],
   "source": [
    "def show_wordcloud(data, title = None):\n",
    "    wordcloud = WordCloud(\n",
    "        background_color='black',\n",
    "        stopwords=stopwords,\n",
    "        max_words=200,\n",
    "        max_font_size=40, \n",
    "        scale=3,\n",
    "        random_state=1 # chosen at random by flipping a coin; it was heads\n",
    ").generate(str(data))\n",
    "\n",
    "    fig = plt.figure(1, figsize=(15, 15))\n",
    "    plt.axis('off')\n",
    "    if title: \n",
    "        fig.suptitle(title, fontsize=20)\n",
    "        fig.subplots_adjust(top=2.3)\n",
    "\n",
    "    plt.imshow(wordcloud)\n",
    "    plt.show()\n",
    "\n",
    "show_wordcloud(filtered)"
   ]
  },
  {
   "cell_type": "markdown",
   "metadata": {},
   "source": [
    "# Model Building"
   ]
  },
  {
   "cell_type": "markdown",
   "metadata": {},
   "source": [
    "## 1. Naive bayes"
   ]
  },
  {
   "cell_type": "code",
   "execution_count": 42,
   "metadata": {},
   "outputs": [],
   "source": [
    "\n",
    "X_train, X_test, y_train, y_test = train_test_split(data.cleaned, data.Class, random_state=1)\n",
    "cv = CountVectorizer(strip_accents=\"ascii\", token_pattern=u\"(?ui)\\\\b\\\\w*[a-z]+\\\\w*\\\\b\", lowercase=True, stop_words=\"english\")\n",
    "X_train_cv = cv.fit_transform(X_train)\n",
    "X_test_cv = cv.transform(X_test)"
   ]
  },
  {
   "cell_type": "code",
   "execution_count": 43,
   "metadata": {},
   "outputs": [
    {
     "name": "stdout",
     "output_type": "stream",
     "text": [
      "  (0, 50519)\t1\n",
      "  (0, 8595)\t1\n",
      "  (1, 18244)\t1\n",
      "  (1, 68574)\t1\n",
      "  (1, 58939)\t1\n",
      "  (1, 59366)\t1\n",
      "  (1, 38034)\t1\n",
      "  (1, 17551)\t1\n",
      "  (1, 24272)\t1\n",
      "  (1, 89464)\t1\n",
      "  (1, 53568)\t3\n",
      "  (1, 70059)\t1\n",
      "  (1, 8424)\t1\n",
      "  (1, 26043)\t2\n",
      "  (1, 62041)\t3\n",
      "  (1, 74017)\t1\n",
      "  (1, 86091)\t1\n",
      "  (1, 39969)\t1\n",
      "  (1, 37704)\t1\n",
      "  (1, 23725)\t1\n",
      "  (1, 39315)\t2\n",
      "  (1, 87338)\t1\n",
      "  (1, 17913)\t1\n",
      "  (1, 3597)\t1\n",
      "  (1, 13052)\t1\n",
      "  :\t:\n",
      "  (28011, 2497)\t2\n",
      "  (28011, 60732)\t2\n",
      "  (28011, 27855)\t1\n",
      "  (28011, 27004)\t1\n",
      "  (28011, 35567)\t1\n",
      "  (28011, 56831)\t1\n",
      "  (28011, 73036)\t2\n",
      "  (28011, 47078)\t1\n",
      "  (28011, 11422)\t1\n",
      "  (28011, 72170)\t3\n",
      "  (28011, 66842)\t1\n",
      "  (28011, 75181)\t1\n",
      "  (28011, 5301)\t1\n",
      "  (28011, 51835)\t1\n",
      "  (28011, 10384)\t1\n",
      "  (28011, 73873)\t1\n",
      "  (28011, 70064)\t1\n",
      "  (28011, 21400)\t1\n",
      "  (28011, 41653)\t1\n",
      "  (28011, 6976)\t1\n",
      "  (28011, 61444)\t1\n",
      "  (28011, 51861)\t1\n",
      "  (28011, 5307)\t1\n",
      "  (28011, 55528)\t1\n",
      "  (28011, 11654)\t1\n"
     ]
    }
   ],
   "source": [
    "print(X_train_cv)"
   ]
  },
  {
   "cell_type": "code",
   "execution_count": 44,
   "metadata": {},
   "outputs": [],
   "source": [
    "pickle.dump(cv, open(\"vectorizer.pkl\", \"wb\"))"
   ]
  },
  {
   "cell_type": "code",
   "execution_count": 45,
   "metadata": {},
   "outputs": [
    {
     "name": "stdout",
     "output_type": "stream",
     "text": [
      "Non Abusive    24950\n",
      "Abusive         3062\n",
      "Name: Class, dtype: int64\n",
      "Non Abusive    8341\n",
      "Abusive         997\n",
      "Name: Class, dtype: int64\n"
     ]
    },
    {
     "data": {
      "image/png": "[encoded data removed]",
      "text/plain": [
       "<Figure size 432x288 with 1 Axes>"
      ]
     },
     "metadata": {
      "needs_background": "light"
     },
     "output_type": "display_data"
    }
   ],
   "source": [
    "y_train.value_counts().plot(kind=\"bar\", rot=0)\n",
    "print(y_train.value_counts())\n",
    "print(y_test.value_counts())"
   ]
  },
  {
   "cell_type": "code",
   "execution_count": 46,
   "metadata": {},
   "outputs": [],
   "source": [
    "\n",
    "naive_bayes = MultinomialNB()\n",
    "naive_bayes.fit(X_train_cv, y_train)\n",
    "predictions = naive_bayes.predict(X_test_cv)"
   ]
  },
  {
   "cell_type": "code",
   "execution_count": 47,
   "metadata": {},
   "outputs": [
    {
     "name": "stdout",
     "output_type": "stream",
     "text": [
      "Accuracy score:  0.939815806382523\n",
      "Precision score:  0.8193832599118943\n",
      "Recall score:  0.559679037111334\n"
     ]
    },
    {
     "data": {
      "text/plain": [
       "array([[ 558,  439],\n",
       "       [ 123, 8218]])"
      ]
     },
     "execution_count": 47,
     "metadata": {},
     "output_type": "execute_result"
    }
   ],
   "source": [
    "print(\"Accuracy score: \", accuracy_score(y_test, predictions))\n",
    "print(\"Precision score: \", precision_score(y_test, predictions ,average=\"binary\", pos_label=\"Abusive\"))\n",
    "print(\"Recall score: \", recall_score(y_test, predictions , average=\"binary\", pos_label=\"Abusive\"))\n",
    "confusion_matrix(y_test, predictions)"
   ]
  },
  {
   "cell_type": "code",
   "execution_count": 48,
   "metadata": {},
   "outputs": [],
   "source": [
    "### "
   ]
  },
  {
   "cell_type": "markdown",
   "metadata": {},
   "source": [
    "### Adding a List of bad words to the dataset"
   ]
  },
  {
   "cell_type": "code",
   "execution_count": 49,
   "metadata": {},
   "outputs": [
    {
     "ename": "NameError",
     "evalue": "name 'deli' is not defined",
     "output_type": "error",
     "traceback": [
      "\u001b[0;31m---------------------------------------------------------------------------\u001b[0m",
      "\u001b[0;31mNameError\u001b[0m                                 Traceback (most recent call last)",
      "\u001b[0;32m<ipython-input-49-7a2acea2b416>\u001b[0m in \u001b[0;36m<module>\u001b[0;34m\u001b[0m\n\u001b[0;32m----> 1\u001b[0;31m \u001b[0mbad\u001b[0m \u001b[0;34m=\u001b[0m \u001b[0mpd\u001b[0m\u001b[0;34m.\u001b[0m\u001b[0mread_csv\u001b[0m\u001b[0;34m(\u001b[0m\u001b[0;34m\"/kaggle/input/bad-word/full-list-of-bad-words_csv-file_2018_07_30.csv\"\u001b[0m\u001b[0;34m,\u001b[0m\u001b[0mdeli\u001b[0m\u001b[0;34m)\u001b[0m\u001b[0;34m\u001b[0m\u001b[0m\n\u001b[0m",
      "\u001b[0;31mNameError\u001b[0m: name 'deli' is not defined"
     ]
    }
   ],
   "source": [
    "bad = pd.read_csv(\"/kaggle/input/bad-word/full-list-of-bad-words_csv-file_2018_07_30.csv\",deli)"
   ]
  },
  {
   "cell_type": "markdown",
   "metadata": {},
   "source": [
    "### TFIDF Vectorization"
   ]
  },
  {
   "cell_type": "code",
   "execution_count": 50,
   "metadata": {},
   "outputs": [
    {
     "name": "stderr",
     "output_type": "stream",
     "text": [
      "/opt/conda/lib/python3.6/site-packages/sklearn/feature_extraction/text.py:520: UserWarning: The parameter 'stop_words' will not be used since 'analyzer' != 'word'\n",
      "  warnings.warn(\"The parameter 'stop_words' will not be used\"\n"
     ]
    }
   ],
   "source": [
    "all_text=data['cleaned']\n",
    "train_text=data['cleaned']\n",
    "y=data['Class']\n",
    "word_vectorizer = TfidfVectorizer(\n",
    "    sublinear_tf=True,\n",
    "    strip_accents='unicode',\n",
    "    analyzer='word',\n",
    "    token_pattern=r'\\w{1,}',\n",
    "    stop_words='english',\n",
    "    ngram_range=(1, 1),\n",
    "    max_features=10000)\n",
    "word_vectorizer.fit(all_text)\n",
    "train_word_features = word_vectorizer.transform(train_text)\n",
    "char_vectorizer = TfidfVectorizer(\n",
    "    sublinear_tf=True,\n",
    "    strip_accents='unicode',\n",
    "    analyzer='char',\n",
    "    stop_words='english',\n",
    "    ngram_range=(2, 6),\n",
    "    max_features=50000)\n",
    "char_vectorizer.fit(all_text)\n",
    "train_char_features = char_vectorizer.transform(train_text)\n",
    "\n",
    "train_features = hstack([train_char_features, train_word_features])"
   ]
  },
  {
   "cell_type": "markdown",
   "metadata": {},
   "source": [
    "## 2. Random Forest"
   ]
  },
  {
   "cell_type": "code",
   "execution_count": 51,
   "metadata": {},
   "outputs": [],
   "source": [
    "X_train, X_test, y_train, y_test = train_test_split(train_features, y,test_size=0.3,random_state=101)\n",
    "classifier = RandomForestClassifier()\n",
    "classifier.fit(X_train,y_train)\n",
    "preds=classifier.predict(X_test)"
   ]
  },
  {
   "cell_type": "code",
   "execution_count": 52,
   "metadata": {},
   "outputs": [
    {
     "name": "stdout",
     "output_type": "stream",
     "text": [
      "Random Forest Model accuracy 0.9676929941990183\n",
      "Precision score:  0.9560439560439561\n",
      "Recall score:  0.7505882352941177\n",
      "[[ 957  318]\n",
      " [  44 9886]]\n"
     ]
    }
   ],
   "source": [
    "rf_accuracy=accuracy_score(preds,y_test)\n",
    "print(\"Random Forest Model accuracy\",rf_accuracy)\n",
    "print(\"Precision score: \", precision_score(y_test, preds ,average=\"binary\", pos_label=\"Abusive\"))\n",
    "print(\"Recall score: \", recall_score(y_test, preds , average=\"binary\", pos_label=\"Abusive\"))\n",
    "print(confusion_matrix(y_test, preds))"
   ]
  },
  {
   "cell_type": "code",
   "execution_count": 53,
   "metadata": {},
   "outputs": [],
   "source": [
    "# save the classifier\n",
    "with open('../working/model1.pkl', 'wb') as fid:\n",
    "    pickle.dump(classifier, fid)    \n",
    "\n",
    "#Saving vectorizer\n",
    "pickle.dump(word_vectorizer, open(\"wvector.pkl\", \"wb\"))\n",
    "pickle.dump(char_vectorizer, open(\"cvector.pkl\", \"wb\"))"
   ]
  },
  {
   "cell_type": "code",
   "execution_count": 54,
   "metadata": {},
   "outputs": [],
   "source": [
    "pickle.dump(char_vectorizer, open(\"cvector1.pkl\", \"wb\"))"
   ]
  },
  {
   "cell_type": "markdown",
   "metadata": {},
   "source": [
    "## 3. XGBoost"
   ]
  },
  {
   "cell_type": "code",
   "execution_count": 55,
   "metadata": {},
   "outputs": [],
   "source": [
    "xgb=xgb.XGBClassifier()"
   ]
  },
  {
   "cell_type": "code",
   "execution_count": 56,
   "metadata": {},
   "outputs": [
    {
     "data": {
      "text/plain": [
       "XGBClassifier(base_score=0.5, booster='gbtree', colsample_bylevel=1,\n",
       "              colsample_bynode=1, colsample_bytree=1, gamma=0,\n",
       "              learning_rate=0.1, max_delta_step=0, max_depth=3,\n",
       "              min_child_weight=1, missing=None, n_estimators=100, n_jobs=1,\n",
       "              nthread=None, objective='binary:logistic', random_state=0,\n",
       "              reg_alpha=0, reg_lambda=1, scale_pos_weight=1, seed=None,\n",
       "              silent=None, subsample=1, verbosity=1)"
      ]
     },
     "execution_count": 56,
     "metadata": {},
     "output_type": "execute_result"
    }
   ],
   "source": [
    "xgb.fit(X_train,y_train)"
   ]
  },
  {
   "cell_type": "code",
   "execution_count": 57,
   "metadata": {},
   "outputs": [],
   "source": [
    "preds2=xgb.predict(X_test)"
   ]
  },
  {
   "cell_type": "code",
   "execution_count": 58,
   "metadata": {},
   "outputs": [],
   "source": [
    "xgb_accuracy=accuracy_score(preds2,y_test)"
   ]
  },
  {
   "cell_type": "code",
   "execution_count": 59,
   "metadata": {},
   "outputs": [
    {
     "name": "stdout",
     "output_type": "stream",
     "text": [
      "XGBoost Model accuracy 0.9344935296742526\n",
      "Recall score:  0.4392156862745098\n",
      "Precision score:  0.9671848013816926\n",
      "F1 SCORE MACRO :  0.7841959544091726\n",
      "F1 SCORE MICRO :  0.9344935296742526\n",
      "F1 SCORE WEIGHTED :  0.9233067996577307\n",
      "F1 SCORE None :  [0.60409924 0.96429266]\n",
      "[[ 560  715]\n",
      " [  19 9911]]\n"
     ]
    }
   ],
   "source": [
    "print(\"XGBoost Model accuracy\", xgb_accuracy)\n",
    "print(\"Recall score: \", recall_score(y_test, preds2 , average=\"binary\", pos_label=\"Abusive\"))\n",
    "print(\"Precision score: \", precision_score(y_test, preds2 ,average=\"binary\", pos_label=\"Abusive\"))\n",
    "print(\"F1 SCORE MACRO : \", f1_score(y_test, preds2, average='macro'))\n",
    "print(\"F1 SCORE MICRO : \",f1_score(y_test, preds2, average='micro'))\n",
    "print(\"F1 SCORE WEIGHTED : \",f1_score(y_test, preds2, average='weighted'))\n",
    "print(\"F1 SCORE None : \",f1_score(y_test, preds2, average=None))\n",
    "print(confusion_matrix(y_test, preds2))"
   ]
  },
  {
   "cell_type": "markdown",
   "metadata": {},
   "source": [
    "## 4. Deep Learning"
   ]
  },
  {
   "cell_type": "code",
   "execution_count": 60,
   "metadata": {},
   "outputs": [],
   "source": [
    "data.loc[data['Class'] == 'Abusive', 'class1'] = 1\n",
    "data.loc[data['Class'] != 'Abusive' , 'class1'] = 0\n"
   ]
  },
  {
   "cell_type": "code",
   "execution_count": 61,
   "metadata": {},
   "outputs": [],
   "source": [
    "train_text, test_text, train_y, test_y = train_test_split(data['cleaned'],data['class1'],test_size = 0.2)"
   ]
  },
  {
   "cell_type": "code",
   "execution_count": 62,
   "metadata": {},
   "outputs": [
    {
     "name": "stderr",
     "output_type": "stream",
     "text": [
      "/opt/conda/lib/python3.6/site-packages/keras_preprocessing/text.py:178: UserWarning: The `nb_words` argument in `Tokenizer` has been renamed `num_words`.\n",
      "  warnings.warn('The `nb_words` argument in `Tokenizer` '\n"
     ]
    },
    {
     "name": "stdout",
     "output_type": "stream",
     "text": [
      "Found 93782 unique tokens.\n"
     ]
    }
   ],
   "source": [
    "MAX_NB_WORDS = 200000\n",
    "\n",
    "# get the raw text data\n",
    "texts_train = train_text.astype(str)\n",
    "texts_test = test_text.astype(str)\n",
    "\n",
    "# finally, vectorize the text samples into a 2D integer tensor\n",
    "tokenizer = Tokenizer(nb_words=MAX_NB_WORDS, char_level=False)\n",
    "tokenizer.fit_on_texts(texts_train)\n",
    "sequences = tokenizer.texts_to_sequences(texts_train)\n",
    "sequences_test = tokenizer.texts_to_sequences(texts_test)\n",
    "\n",
    "word_index = tokenizer.word_index\n",
    "print('Found %s unique tokens.' % len(word_index))"
   ]
  },
  {
   "cell_type": "code",
   "execution_count": 63,
   "metadata": {},
   "outputs": [
    {
     "name": "stdout",
     "output_type": "stream",
     "text": [
      "Shape of data tensor: (29880, 200)\n",
      "Shape of data test tensor: (7470, 200)\n"
     ]
    }
   ],
   "source": [
    "MAX_SEQUENCE_LENGTH = 200\n",
    "#pad sequences are used to bring all sentences to same size.\n",
    "# pad sequences with 0s\n",
    "x_train = pad_sequences(sequences, maxlen=MAX_SEQUENCE_LENGTH)\n",
    "x_test = pad_sequences(sequences_test, maxlen=MAX_SEQUENCE_LENGTH)\n",
    "print('Shape of data tensor:', x_train.shape)\n",
    "print('Shape of data test tensor:', x_test.shape)"
   ]
  },
  {
   "cell_type": "code",
   "execution_count": 64,
   "metadata": {},
   "outputs": [],
   "source": [
    "model = Sequential()\n",
    "model.add(Embedding(MAX_NB_WORDS, 128))\n",
    "model.add(LSTM(128, dropout=0.2, recurrent_dropout=0.2,input_shape=(1,)))\n",
    "model.add(Dense(1, activation='sigmoid'))"
   ]
  },
  {
   "cell_type": "code",
   "execution_count": 65,
   "metadata": {},
   "outputs": [],
   "source": [
    "model.compile(loss='binary_crossentropy',\n",
    "              optimizer='adam',\n",
    "              metrics=['accuracy'])"
   ]
  },
  {
   "cell_type": "code",
   "execution_count": 66,
   "metadata": {},
   "outputs": [
    {
     "name": "stderr",
     "output_type": "stream",
     "text": [
      "/opt/conda/lib/python3.6/site-packages/tensorflow_core/python/framework/indexed_slices.py:433: UserWarning: Converting sparse IndexedSlices to a dense Tensor of unknown shape. This may consume a large amount of memory.\n",
      "  \"Converting sparse IndexedSlices to a dense Tensor of unknown shape. \"\n"
     ]
    },
    {
     "name": "stdout",
     "output_type": "stream",
     "text": [
      "Train on 29880 samples, validate on 7470 samples\n",
      "Epoch 1/1\n",
      "29880/29880 [==============================] - 5s 151us/step - loss: 0.5757 - accuracy: 0.8470 - val_loss: 0.4326 - val_accuracy: 0.8905\n"
     ]
    },
    {
     "data": {
      "text/plain": [
       "<keras.callbacks.callbacks.History at 0x7efc32e75eb8>"
      ]
     },
     "execution_count": 66,
     "metadata": {},
     "output_type": "execute_result"
    }
   ],
   "source": [
    "model.fit(x_train, train_y,\n",
    "          batch_size=3000,\n",
    "          epochs=1,\n",
    "          validation_data=(x_test, test_y))"
   ]
  },
  {
   "cell_type": "code",
   "execution_count": 67,
   "metadata": {},
   "outputs": [],
   "source": [
    "pred3 = model.predict(x_test)"
   ]
  },
  {
   "cell_type": "code",
   "execution_count": 68,
   "metadata": {},
   "outputs": [],
   "source": [
    "pred3_class = []\n",
    "for i in range(len(pred3)):\n",
    "    if pred3[i] > 0.5:\n",
    "        pred3_class.append(1)\n",
    "    else :\n",
    "        pred3_class.append(0)"
   ]
  },
  {
   "cell_type": "code",
   "execution_count": 69,
   "metadata": {},
   "outputs": [],
   "source": [
    "preds3_class = np.array(pred3_class)"
   ]
  },
  {
   "cell_type": "code",
   "execution_count": 70,
   "metadata": {},
   "outputs": [
    {
     "name": "stdout",
     "output_type": "stream",
     "text": [
      "Deep learning Model accuracy 0.8904953145917002\n",
      "Recall score:  0.0\n",
      "Precision score:  0.0\n",
      "F1 SCORE MACRO :  0.47103809658688567\n",
      "F1 SCORE MICRO :  0.8904953145917002\n",
      "F1 SCORE WEIGHTED :  0.8389144360096287\n",
      "F1 SCORE None :  [0.94207619 0.        ]\n"
     ]
    },
    {
     "name": "stderr",
     "output_type": "stream",
     "text": [
      "/opt/conda/lib/python3.6/site-packages/sklearn/metrics/_classification.py:1272: UndefinedMetricWarning: Precision is ill-defined and being set to 0.0 due to no predicted samples. Use `zero_division` parameter to control this behavior.\n",
      "  _warn_prf(average, modifier, msg_start, len(result))\n"
     ]
    },
    {
     "data": {
      "text/plain": [
       "array([[6652,    0],\n",
       "       [ 818,    0]])"
      ]
     },
     "execution_count": 70,
     "metadata": {},
     "output_type": "execute_result"
    }
   ],
   "source": [
    "deep_accuracy=accuracy_score(preds3_class,test_y)\n",
    "print(\"Deep learning Model accuracy\",deep_accuracy )\n",
    "print(\"Recall score: \", recall_score(test_y, preds3_class , average=\"binary\", pos_label=1))\n",
    "print(\"Precision score: \", precision_score(test_y, preds3_class ,average=\"binary\", pos_label=1))\n",
    "print(\"F1 SCORE MACRO : \", f1_score(test_y, preds3_class, average='macro'))\n",
    "print(\"F1 SCORE MICRO : \",f1_score(test_y, preds3_class, average='micro'))\n",
    "print(\"F1 SCORE WEIGHTED : \",f1_score(test_y, preds3_class, average='weighted'))\n",
    "print(\"F1 SCORE None : \",f1_score(test_y,preds3_class, average=None))\n",
    "confusion_matrix(test_y,preds3_class)\n"
   ]
  },
  {
   "cell_type": "markdown",
   "metadata": {},
   "source": [
    "# Balancing the Data"
   ]
  },
  {
   "cell_type": "code",
   "execution_count": 71,
   "metadata": {},
   "outputs": [],
   "source": [
    "X_train, X_test, y_train, y_test = train_test_split(data.cleaned, data.Class, random_state=1)"
   ]
  },
  {
   "cell_type": "code",
   "execution_count": 72,
   "metadata": {},
   "outputs": [
    {
     "data": {
      "text/plain": [
       "Non Abusive    26621\n",
       "Abusive        26621\n",
       "Name: Class, dtype: int64"
      ]
     },
     "execution_count": 72,
     "metadata": {},
     "output_type": "execute_result"
    }
   ],
   "source": [
    "from sklearn.utils import resample\n",
    "\n",
    "\n",
    "\n",
    "# setting up testing and training sets\n",
    "X_train, X_test, y_train, y_test = train_test_split(data.cleaned, data.Class,test_size = 0.2 ,random_state=27)\n",
    "\n",
    "# concatenate our training data back together\n",
    "X = pd.concat([X_train, y_train], axis=1)\n",
    "\n",
    "# separate minority and majority classes\n",
    "NonAbusive = X[X.Class==\"Non Abusive\"]\n",
    "Abusive = X[X.Class==\"Abusive\"]\n",
    "\n",
    "# upsample minority\n",
    "Abusive_upsampled = resample(Abusive,\n",
    "                          replace=True, # sample with replacement\n",
    "                          n_samples=len(NonAbusive), # match number in majority class\n",
    "                          random_state=27) # reproducible results\n",
    "\n",
    "# combine majority and upsampled minority\n",
    "upsampled = pd.concat([NonAbusive, Abusive_upsampled])\n",
    "\n",
    "# check new class counts\n",
    "upsampled.Class.value_counts()\n"
   ]
  },
  {
   "cell_type": "markdown",
   "metadata": {},
   "source": [
    "# Model building on Undersampled Data"
   ]
  },
  {
   "cell_type": "markdown",
   "metadata": {},
   "source": [
    "## 1. Naive Bayes"
   ]
  },
  {
   "cell_type": "code",
   "execution_count": 73,
   "metadata": {},
   "outputs": [],
   "source": [
    "\n",
    "X_train, X_test, y_train, y_test = train_test_split(upsampled.cleaned, upsampled.Class, random_state=1)\n",
    "cv = CountVectorizer(strip_accents=\"ascii\", token_pattern=u\"(?ui)\\\\b\\\\w*[a-z]+\\\\w*\\\\b\", lowercase=True, stop_words=\"english\")\n",
    "X_train_cv = cv.fit_transform(X_train)\n",
    "X_test_cv = cv.transform(X_test)"
   ]
  },
  {
   "cell_type": "code",
   "execution_count": 74,
   "metadata": {},
   "outputs": [],
   "source": [
    "cv = CountVectorizer(strip_accents=\"ascii\", token_pattern=u\"(?ui)\\\\b\\\\w*[a-z]+\\\\w*\\\\b\", lowercase=True, stop_words=\"english\")\n",
    "X_train_cv = cv.fit_transform(X_train)\n",
    "X_test_cv = cv.transform(X_test)\n"
   ]
  },
  {
   "cell_type": "code",
   "execution_count": 75,
   "metadata": {},
   "outputs": [
    {
     "name": "stdout",
     "output_type": "stream",
     "text": [
      "Abusive        20029\n",
      "Non Abusive    19902\n",
      "Name: Class, dtype: int64\n",
      "Non Abusive    6719\n",
      "Abusive        6592\n",
      "Name: Class, dtype: int64\n"
     ]
    },
    {
     "data": {
      "image/png": "[encoded data removed]",
      "text/plain": [
       "<Figure size 432x288 with 1 Axes>"
      ]
     },
     "metadata": {
      "needs_background": "light"
     },
     "output_type": "display_data"
    }
   ],
   "source": [
    "y_test.value_counts().plot(kind=\"bar\", rot=0)\n",
    "print(y_train.value_counts())\n",
    "print(y_test.value_counts())"
   ]
  },
  {
   "cell_type": "code",
   "execution_count": 76,
   "metadata": {},
   "outputs": [
    {
     "data": {
      "text/plain": [
       "MultinomialNB(alpha=1.0, class_prior=None, fit_prior=True)"
      ]
     },
     "execution_count": 76,
     "metadata": {},
     "output_type": "execute_result"
    }
   ],
   "source": [
    "naive_bayes_und = MultinomialNB()\n",
    "naive_bayes_und.fit(X_train_cv, y_train)"
   ]
  },
  {
   "cell_type": "code",
   "execution_count": 77,
   "metadata": {},
   "outputs": [],
   "source": [
    "predictions_und = naive_bayes_und.predict(X_test_cv)"
   ]
  },
  {
   "cell_type": "code",
   "execution_count": 78,
   "metadata": {},
   "outputs": [
    {
     "name": "stdout",
     "output_type": "stream",
     "text": [
      "Accuracy score:  0.9249492900608519\n",
      "Precision score:  0.9288452691305015\n",
      "Recall score:  0.9188410194174758\n",
      "confusion_matrix [[6057  535]\n",
      " [ 464 6255]]\n"
     ]
    }
   ],
   "source": [
    "print(\"Accuracy score: \", accuracy_score(y_test, predictions_und))\n",
    "print(\"Precision score: \", precision_score(y_test, predictions_und ,average=\"binary\", pos_label=\"Abusive\"))\n",
    "print(\"Recall score: \", recall_score(y_test, predictions_und , average=\"binary\", pos_label=\"Abusive\"))\n",
    "print(\"confusion_matrix\",confusion_matrix(y_test, predictions_und))"
   ]
  },
  {
   "cell_type": "markdown",
   "metadata": {},
   "source": [
    "### Saving model"
   ]
  },
  {
   "cell_type": "code",
   "execution_count": 79,
   "metadata": {},
   "outputs": [],
   "source": [
    "# save the classifier\n",
    "with open('../working/model.pkl', 'wb') as fid:\n",
    "    pickle.dump(naive_bayes_und, fid)    \n",
    "\n",
    "#Saving vectorizer\n",
    "pickle.dump(cv, open(\"vector.pkl\", \"wb\"))\n"
   ]
  },
  {
   "cell_type": "markdown",
   "metadata": {},
   "source": [
    "## 2. Deep learning"
   ]
  },
  {
   "cell_type": "code",
   "execution_count": 80,
   "metadata": {},
   "outputs": [],
   "source": [
    "upsampled.loc[upsampled['Class'] == 'Abusive', 'class1'] = 1\n",
    "upsampled.loc[upsampled['Class'] != 'Abusive' , 'class1'] = 0"
   ]
  },
  {
   "cell_type": "code",
   "execution_count": 81,
   "metadata": {},
   "outputs": [],
   "source": [
    "train_text, test_text, train_y, test_y = train_test_split(upsampled['cleaned'],upsampled['class1'],test_size = 0.2,random_state=11)"
   ]
  },
  {
   "cell_type": "code",
   "execution_count": 82,
   "metadata": {},
   "outputs": [
    {
     "name": "stderr",
     "output_type": "stream",
     "text": [
      "/opt/conda/lib/python3.6/site-packages/keras_preprocessing/text.py:178: UserWarning: The `nb_words` argument in `Tokenizer` has been renamed `num_words`.\n",
      "  warnings.warn('The `nb_words` argument in `Tokenizer` '\n"
     ]
    },
    {
     "name": "stdout",
     "output_type": "stream",
     "text": [
      "Found 64835 unique tokens.\n"
     ]
    }
   ],
   "source": [
    "MAX_NB_WORDS = 2000000\n",
    "\n",
    "# get the raw text data\n",
    "texts_train = train_text.astype(str)\n",
    "texts_test = test_text.astype(str)\n",
    "\n",
    "# finally, vectorize the text samples into a 2D integer tensor\n",
    "tokenizer = Tokenizer(nb_words=MAX_NB_WORDS, char_level=False)\n",
    "tokenizer.fit_on_texts(texts_train)\n",
    "sequences = tokenizer.texts_to_sequences(texts_train)\n",
    "sequences_test = tokenizer.texts_to_sequences(texts_test)\n",
    "\n",
    "word_index = tokenizer.word_index\n",
    "print('Found %s unique tokens.' % len(word_index))"
   ]
  },
  {
   "cell_type": "code",
   "execution_count": 83,
   "metadata": {},
   "outputs": [
    {
     "name": "stdout",
     "output_type": "stream",
     "text": [
      "Shape of data tensor: (42593, 200)\n",
      "Shape of data test tensor: (10649, 200)\n"
     ]
    }
   ],
   "source": [
    "MAX_SEQUENCE_LENGTH = 200\n",
    "#pad sequences are used to bring all sentences to same size.\n",
    "# pad sequences with 0s\n",
    "x_train = pad_sequences(sequences, maxlen=MAX_SEQUENCE_LENGTH)\n",
    "x_test = pad_sequences(sequences_test, maxlen=MAX_SEQUENCE_LENGTH)\n",
    "print('Shape of data tensor:', x_train.shape)\n",
    "print('Shape of data test tensor:', x_test.shape)"
   ]
  },
  {
   "cell_type": "code",
   "execution_count": 84,
   "metadata": {},
   "outputs": [],
   "source": [
    "model = Sequential()\n",
    "model.add(Embedding(MAX_NB_WORDS, 128))\n",
    "model.add(LSTM(128, dropout=0.2, recurrent_dropout=0.2,input_shape=(1,)))\n",
    "model.add(Dense(1, activation='sigmoid'))"
   ]
  },
  {
   "cell_type": "code",
   "execution_count": 85,
   "metadata": {},
   "outputs": [],
   "source": [
    "model.compile(loss='binary_crossentropy',\n",
    "              optimizer='adam',\n",
    "              metrics=['binary_accuracy'])"
   ]
  },
  {
   "cell_type": "code",
   "execution_count": 86,
   "metadata": {},
   "outputs": [
    {
     "name": "stderr",
     "output_type": "stream",
     "text": [
      "/opt/conda/lib/python3.6/site-packages/tensorflow_core/python/framework/indexed_slices.py:433: UserWarning: Converting sparse IndexedSlices to a dense Tensor of unknown shape. This may consume a large amount of memory.\n",
      "  \"Converting sparse IndexedSlices to a dense Tensor of unknown shape. \"\n"
     ]
    },
    {
     "name": "stdout",
     "output_type": "stream",
     "text": [
      "Train on 42593 samples, validate on 10649 samples\n",
      "Epoch 1/10\n",
      "42593/42593 [==============================] - 41s 973us/step - loss: 0.2984 - binary_accuracy: 0.8738 - val_loss: 0.1139 - val_binary_accuracy: 0.9535\n",
      "Epoch 2/10\n",
      "42593/42593 [==============================] - 41s 959us/step - loss: 0.0658 - binary_accuracy: 0.9774 - val_loss: 0.0395 - val_binary_accuracy: 0.9922\n",
      "Epoch 3/10\n",
      "42593/42593 [==============================] - 40s 943us/step - loss: 0.0216 - binary_accuracy: 0.9943 - val_loss: 0.0245 - val_binary_accuracy: 0.9945\n",
      "Epoch 4/10\n",
      "42593/42593 [==============================] - 41s 959us/step - loss: 0.0141 - binary_accuracy: 0.9968 - val_loss: 0.0265 - val_binary_accuracy: 0.9936\n",
      "Epoch 5/10\n",
      "42593/42593 [==============================] - 41s 958us/step - loss: 0.0101 - binary_accuracy: 0.9973 - val_loss: 0.0259 - val_binary_accuracy: 0.9935\n",
      "Epoch 6/10\n",
      "42593/42593 [==============================] - 40s 941us/step - loss: 0.0099 - binary_accuracy: 0.9974 - val_loss: 0.0265 - val_binary_accuracy: 0.9935\n",
      "Epoch 7/10\n",
      "42593/42593 [==============================] - 41s 959us/step - loss: 0.0065 - binary_accuracy: 0.9983 - val_loss: 0.0186 - val_binary_accuracy: 0.9955\n",
      "Epoch 8/10\n",
      "42593/42593 [==============================] - 41s 970us/step - loss: 0.0044 - binary_accuracy: 0.9991 - val_loss: 0.0226 - val_binary_accuracy: 0.9947\n",
      "Epoch 9/10\n",
      "42593/42593 [==============================] - 40s 944us/step - loss: 0.0040 - binary_accuracy: 0.9991 - val_loss: 0.0163 - val_binary_accuracy: 0.9961\n",
      "Epoch 10/10\n",
      "42593/42593 [==============================] - 41s 961us/step - loss: 0.0160 - binary_accuracy: 0.9960 - val_loss: 0.0295 - val_binary_accuracy: 0.9930\n"
     ]
    },
    {
     "data": {
      "text/plain": [
       "<keras.callbacks.callbacks.History at 0x7efc32aa65f8>"
      ]
     },
     "execution_count": 86,
     "metadata": {},
     "output_type": "execute_result"
    }
   ],
   "source": [
    "model.fit(x_train, train_y,\n",
    "          batch_size=300,\n",
    "          epochs=10,\n",
    "          validation_data=(x_test, test_y))"
   ]
  },
  {
   "cell_type": "markdown",
   "metadata": {},
   "source": [
    "### Saving model"
   ]
  },
  {
   "cell_type": "code",
   "execution_count": 87,
   "metadata": {},
   "outputs": [
    {
     "name": "stdout",
     "output_type": "stream",
     "text": [
      "Saved model to disk\n"
     ]
    }
   ],
   "source": [
    "# serialize model to JSON\n",
    "model_json = model.to_json()\n",
    "with open(\"model.json\", \"w\") as json_file:\n",
    "    json_file.write(model_json)\n",
    "# serialize weights to HDF5\n",
    "model.save_weights(\"model.h5\")\n",
    "print(\"Saved model to disk\")"
   ]
  },
  {
   "cell_type": "code",
   "execution_count": 88,
   "metadata": {},
   "outputs": [],
   "source": [
    "my_prediction = model.predict(x_test)"
   ]
  },
  {
   "cell_type": "code",
   "execution_count": 89,
   "metadata": {},
   "outputs": [
    {
     "data": {
      "text/plain": [
       "array([0.9961377], dtype=float32)"
      ]
     },
     "execution_count": 89,
     "metadata": {},
     "output_type": "execute_result"
    }
   ],
   "source": [
    "my_prediction[67]"
   ]
  },
  {
   "cell_type": "code",
   "execution_count": 90,
   "metadata": {},
   "outputs": [],
   "source": [
    "my_prediction_class = []\n",
    "for i in range(len(my_prediction)):\n",
    "    if my_prediction[i] > 0.5:\n",
    "        my_prediction_class.append(1)\n",
    "    else :\n",
    "        my_prediction_class.append(0)"
   ]
  },
  {
   "cell_type": "code",
   "execution_count": 91,
   "metadata": {},
   "outputs": [],
   "source": [
    "my_prediction_class = np.array(my_prediction_class)"
   ]
  },
  {
   "cell_type": "code",
   "execution_count": 92,
   "metadata": {},
   "outputs": [
    {
     "name": "stdout",
     "output_type": "stream",
     "text": [
      "Deep learning Model accuracy 0.9929570851723166\n",
      "Recall score:  0.9994242947610823\n",
      "Precision score:  0.9863636363636363\n",
      "F1 SCORE MACRO :  0.992955534412383\n",
      "F1 SCORE MICRO :  0.9929570851723166\n",
      "F1 SCORE WEIGHTED :  0.9929577624029206\n",
      "F1 SCORE None :  [0.99306005 0.99285102]\n"
     ]
    }
   ],
   "source": [
    "deep_accuracy=accuracy_score(my_prediction_class,test_y)\n",
    "print(\"Deep learning Model accuracy\",deep_accuracy )\n",
    "print(\"Recall score: \", recall_score(test_y, my_prediction_class , average=\"binary\", pos_label=1))\n",
    "print(\"Precision score: \", precision_score(test_y, my_prediction_class ,average=\"binary\", pos_label=1))\n",
    "print(\"F1 SCORE MACRO : \", f1_score(test_y, my_prediction_class, average='macro'))\n",
    "print(\"F1 SCORE MICRO : \",f1_score(test_y, my_prediction_class, average='micro'))\n",
    "print(\"F1 SCORE WEIGHTED : \",f1_score(test_y, my_prediction_class, average='weighted'))\n",
    "print(\"F1 SCORE None : \",f1_score(test_y,my_prediction_class, average=None))"
   ]
  },
  {
   "cell_type": "markdown",
   "metadata": {},
   "source": [
    "## 3. Random forest"
   ]
  },
  {
   "cell_type": "code",
   "execution_count": 93,
   "metadata": {},
   "outputs": [
    {
     "name": "stderr",
     "output_type": "stream",
     "text": [
      "/opt/conda/lib/python3.6/site-packages/sklearn/feature_extraction/text.py:520: UserWarning: The parameter 'stop_words' will not be used since 'analyzer' != 'word'\n",
      "  warnings.warn(\"The parameter 'stop_words' will not be used\"\n"
     ]
    }
   ],
   "source": [
    "all_text = upsampled['cleaned']\n",
    "train_text=upsampled['cleaned']\n",
    "y=upsampled['Class']\n",
    "word_vectorizer = TfidfVectorizer(\n",
    "    sublinear_tf=True,\n",
    "    strip_accents='unicode',\n",
    "    analyzer='word',\n",
    "    token_pattern=r'\\w{1,}',\n",
    "    stop_words='english',\n",
    "    ngram_range=(1, 1),\n",
    "    max_features=10000)\n",
    "word_vectorizer.fit(all_text)\n",
    "\n",
    "train_word_features = word_vectorizer.transform(train_text)\n",
    "char_vectorizer = TfidfVectorizer(\n",
    "    sublinear_tf=True,\n",
    "    strip_accents='unicode',\n",
    "    analyzer='char',\n",
    "    stop_words='english',\n",
    "    ngram_range=(2, 6),\n",
    "    max_features=50000)\n",
    "char_vectorizer.fit(all_text)\n",
    "train_char_features = char_vectorizer.transform(train_text)\n",
    "\n",
    "train_features = hstack([train_char_features, train_word_features])"
   ]
  },
  {
   "cell_type": "code",
   "execution_count": 94,
   "metadata": {},
   "outputs": [],
   "source": [
    "X_train, X_test, y_train, y_test = train_test_split(train_features, y,test_size=0.3,random_state=101)\n",
    "classifier = RandomForestClassifier()\n",
    "classifier.fit(X_train,y_train)\n",
    "preds=classifier.predict(X_test)"
   ]
  },
  {
   "cell_type": "code",
   "execution_count": 95,
   "metadata": {},
   "outputs": [
    {
     "name": "stdout",
     "output_type": "stream",
     "text": [
      "Random Forest Model accuracy 0.9914230263569774\n",
      "Precision score:  0.9842267406038201\n",
      "Recall score:  0.9988744372186094\n",
      "[[7987    9]\n",
      " [ 128 7849]]\n"
     ]
    }
   ],
   "source": [
    "rf_accuracy=accuracy_score(preds,y_test)\n",
    "print(\"Random Forest Model accuracy\",rf_accuracy)\n",
    "print(\"Precision score: \", precision_score(y_test, preds ,average=\"binary\", pos_label=\"Abusive\"))\n",
    "print(\"Recall score: \", recall_score(y_test, preds , average=\"binary\", pos_label=\"Abusive\"))\n",
    "print(confusion_matrix(y_test, preds))"
   ]
  },
  {
   "cell_type": "markdown",
   "metadata": {},
   "source": [
    "### saving model"
   ]
  },
  {
   "cell_type": "code",
   "execution_count": 96,
   "metadata": {},
   "outputs": [],
   "source": [
    "# save the classifier\n",
    "with open('../working/model.pkl', 'wb') as fid:\n",
    "    pickle.dump(classifier, fid)    \n",
    "\n",
    "#Saving vectorizer\n",
    "pickle.dump(word_vectorizer, open(\"wvector.pkl\", \"wb\"))\n",
    "pickle.dump(char_vectorizer, open(\"cvector.pkl\", \"wb\"))"
   ]
  },
  {
   "cell_type": "markdown",
   "metadata": {},
   "source": [
    "## 4. XG Boost"
   ]
  },
  {
   "cell_type": "code",
   "execution_count": 97,
   "metadata": {},
   "outputs": [],
   "source": [
    "import xgboost as xgb\n",
    "xgb=xgb.XGBClassifier()"
   ]
  },
  {
   "cell_type": "code",
   "execution_count": 98,
   "metadata": {},
   "outputs": [
    {
     "data": {
      "text/plain": [
       "XGBClassifier(base_score=0.5, booster='gbtree', colsample_bylevel=1,\n",
       "              colsample_bynode=1, colsample_bytree=1, gamma=0,\n",
       "              learning_rate=0.1, max_delta_step=0, max_depth=3,\n",
       "              min_child_weight=1, missing=None, n_estimators=100, n_jobs=1,\n",
       "              nthread=None, objective='binary:logistic', random_state=0,\n",
       "              reg_alpha=0, reg_lambda=1, scale_pos_weight=1, seed=None,\n",
       "              silent=None, subsample=1, verbosity=1)"
      ]
     },
     "execution_count": 98,
     "metadata": {},
     "output_type": "execute_result"
    }
   ],
   "source": [
    "xgb.fit(X_train,y_train)"
   ]
  },
  {
   "cell_type": "code",
   "execution_count": 99,
   "metadata": {},
   "outputs": [],
   "source": [
    "preds2=xgb.predict(X_test)"
   ]
  },
  {
   "cell_type": "code",
   "execution_count": 100,
   "metadata": {},
   "outputs": [
    {
     "name": "stdout",
     "output_type": "stream",
     "text": [
      "XGBoost Model accuracy 0.8992049082827271\n",
      "Recall score:  0.9348424212106053\n",
      "Precision score:  0.8728397944885568\n",
      "F1 SCORE MACRO :  0.8990685977150945\n",
      "F1 SCORE MICRO :  0.8992049082827271\n",
      "F1 SCORE WEIGHTED :  0.8990730098118321\n",
      "F1 SCORE None :  [0.90277778 0.89535942]\n",
      "[[7475  521]\n",
      " [1089 6888]]\n"
     ]
    }
   ],
   "source": [
    "xgb_accuracy=accuracy_score(preds2,y_test)\n",
    "print(\"XGBoost Model accuracy\", xgb_accuracy)\n",
    "print(\"Recall score: \", recall_score(y_test, preds2 , average=\"binary\", pos_label=\"Abusive\"))\n",
    "print(\"Precision score: \", precision_score(y_test, preds2 ,average=\"binary\", pos_label=\"Abusive\"))\n",
    "print(\"F1 SCORE MACRO : \", f1_score(y_test, preds2, average='macro'))\n",
    "print(\"F1 SCORE MICRO : \",f1_score(y_test, preds2, average='micro'))\n",
    "print(\"F1 SCORE WEIGHTED : \",f1_score(y_test, preds2, average='weighted'))\n",
    "print(\"F1 SCORE None : \",f1_score(y_test, preds2, average=None))\n",
    "print(confusion_matrix(y_test, preds2))"
   ]
  }
 ],
 "metadata": {
  "accelerator": "GPU",
  "colab": {
   "collapsed_sections": [],
   "machine_shape": "hm",
   "name": "Project-v1.ipynb",
   "provenance": []
  },
  "kernelspec": {
   "display_name": "Python 3",
   "name": "python3"
  },
  "language_info": {
   "codemirror_mode": {
    "name": "ipython",
    "version": 3
   },
   "file_extension": ".py",
   "mimetype": "text/x-python",
   "name": "python",
   "nbconvert_exporter": "python",
   "pygments_lexer": "ipython3",
   "version": "3.6.6"
  }
 },
 "nbformat": 4,
 "nbformat_minor": 4
}
